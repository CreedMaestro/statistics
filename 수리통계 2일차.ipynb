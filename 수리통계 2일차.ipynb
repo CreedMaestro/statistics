{
 "cells": [
  {
   "cell_type": "code",
   "execution_count": 1,
   "id": "49321615",
   "metadata": {},
   "outputs": [],
   "source": [
    "import pandas as pd\n",
    "import numpy as np\n",
    "import matplotlib.pyplot as plt"
   ]
  },
  {
   "cell_type": "code",
   "execution_count": 7,
   "id": "f12c6ecf",
   "metadata": {},
   "outputs": [],
   "source": [
    "df = pd.read_csv('C:/Users/Creed/Documents/GitHub/Mathematical-statistics/수리통계/code/data/StudentsPerformance.csv')"
   ]
  },
  {
   "cell_type": "code",
   "execution_count": 8,
   "id": "59e0c2c8",
   "metadata": {},
   "outputs": [
    {
     "data": {
      "text/html": [
       "<div>\n",
       "<style scoped>\n",
       "    .dataframe tbody tr th:only-of-type {\n",
       "        vertical-align: middle;\n",
       "    }\n",
       "\n",
       "    .dataframe tbody tr th {\n",
       "        vertical-align: top;\n",
       "    }\n",
       "\n",
       "    .dataframe thead th {\n",
       "        text-align: right;\n",
       "    }\n",
       "</style>\n",
       "<table border=\"1\" class=\"dataframe\">\n",
       "  <thead>\n",
       "    <tr style=\"text-align: right;\">\n",
       "      <th></th>\n",
       "      <th>gender</th>\n",
       "      <th>race/ethnicity</th>\n",
       "      <th>parental level of education</th>\n",
       "      <th>lunch</th>\n",
       "      <th>test preparation course</th>\n",
       "      <th>math score</th>\n",
       "      <th>reading score</th>\n",
       "      <th>writing score</th>\n",
       "    </tr>\n",
       "  </thead>\n",
       "  <tbody>\n",
       "    <tr>\n",
       "      <th>0</th>\n",
       "      <td>female</td>\n",
       "      <td>group B</td>\n",
       "      <td>bachelor's degree</td>\n",
       "      <td>standard</td>\n",
       "      <td>none</td>\n",
       "      <td>72</td>\n",
       "      <td>72</td>\n",
       "      <td>74</td>\n",
       "    </tr>\n",
       "    <tr>\n",
       "      <th>1</th>\n",
       "      <td>female</td>\n",
       "      <td>group C</td>\n",
       "      <td>some college</td>\n",
       "      <td>standard</td>\n",
       "      <td>completed</td>\n",
       "      <td>69</td>\n",
       "      <td>90</td>\n",
       "      <td>88</td>\n",
       "    </tr>\n",
       "    <tr>\n",
       "      <th>2</th>\n",
       "      <td>female</td>\n",
       "      <td>group B</td>\n",
       "      <td>master's degree</td>\n",
       "      <td>standard</td>\n",
       "      <td>none</td>\n",
       "      <td>90</td>\n",
       "      <td>95</td>\n",
       "      <td>93</td>\n",
       "    </tr>\n",
       "    <tr>\n",
       "      <th>3</th>\n",
       "      <td>male</td>\n",
       "      <td>group A</td>\n",
       "      <td>associate's degree</td>\n",
       "      <td>free/reduced</td>\n",
       "      <td>none</td>\n",
       "      <td>47</td>\n",
       "      <td>57</td>\n",
       "      <td>44</td>\n",
       "    </tr>\n",
       "    <tr>\n",
       "      <th>4</th>\n",
       "      <td>male</td>\n",
       "      <td>group C</td>\n",
       "      <td>some college</td>\n",
       "      <td>standard</td>\n",
       "      <td>none</td>\n",
       "      <td>76</td>\n",
       "      <td>78</td>\n",
       "      <td>75</td>\n",
       "    </tr>\n",
       "  </tbody>\n",
       "</table>\n",
       "</div>"
      ],
      "text/plain": [
       "   gender race/ethnicity parental level of education         lunch  \\\n",
       "0  female        group B           bachelor's degree      standard   \n",
       "1  female        group C                some college      standard   \n",
       "2  female        group B             master's degree      standard   \n",
       "3    male        group A          associate's degree  free/reduced   \n",
       "4    male        group C                some college      standard   \n",
       "\n",
       "  test preparation course  math score  reading score  writing score  \n",
       "0                    none          72             72             74  \n",
       "1               completed          69             90             88  \n",
       "2                    none          90             95             93  \n",
       "3                    none          47             57             44  \n",
       "4                    none          76             78             75  "
      ]
     },
     "execution_count": 8,
     "metadata": {},
     "output_type": "execute_result"
    }
   ],
   "source": [
    "df.head(5)"
   ]
  },
  {
   "cell_type": "code",
   "execution_count": 9,
   "id": "831d8c9b",
   "metadata": {},
   "outputs": [
    {
     "data": {
      "text/html": [
       "<div>\n",
       "<style scoped>\n",
       "    .dataframe tbody tr th:only-of-type {\n",
       "        vertical-align: middle;\n",
       "    }\n",
       "\n",
       "    .dataframe tbody tr th {\n",
       "        vertical-align: top;\n",
       "    }\n",
       "\n",
       "    .dataframe thead th {\n",
       "        text-align: right;\n",
       "    }\n",
       "</style>\n",
       "<table border=\"1\" class=\"dataframe\">\n",
       "  <thead>\n",
       "    <tr style=\"text-align: right;\">\n",
       "      <th></th>\n",
       "      <th>gender</th>\n",
       "      <th>race/ethnicity</th>\n",
       "      <th>parental level of education</th>\n",
       "      <th>lunch</th>\n",
       "      <th>test preparation course</th>\n",
       "      <th>math score</th>\n",
       "      <th>reading score</th>\n",
       "      <th>writing score</th>\n",
       "    </tr>\n",
       "  </thead>\n",
       "  <tbody>\n",
       "    <tr>\n",
       "      <th>0</th>\n",
       "      <td>female</td>\n",
       "      <td>group B</td>\n",
       "      <td>bachelor's degree</td>\n",
       "      <td>standard</td>\n",
       "      <td>none</td>\n",
       "      <td>72</td>\n",
       "      <td>72</td>\n",
       "      <td>74</td>\n",
       "    </tr>\n",
       "    <tr>\n",
       "      <th>1</th>\n",
       "      <td>female</td>\n",
       "      <td>group C</td>\n",
       "      <td>some college</td>\n",
       "      <td>standard</td>\n",
       "      <td>completed</td>\n",
       "      <td>69</td>\n",
       "      <td>90</td>\n",
       "      <td>88</td>\n",
       "    </tr>\n",
       "    <tr>\n",
       "      <th>2</th>\n",
       "      <td>female</td>\n",
       "      <td>group B</td>\n",
       "      <td>master's degree</td>\n",
       "      <td>standard</td>\n",
       "      <td>none</td>\n",
       "      <td>90</td>\n",
       "      <td>95</td>\n",
       "      <td>93</td>\n",
       "    </tr>\n",
       "    <tr>\n",
       "      <th>3</th>\n",
       "      <td>male</td>\n",
       "      <td>group A</td>\n",
       "      <td>associate's degree</td>\n",
       "      <td>free/reduced</td>\n",
       "      <td>none</td>\n",
       "      <td>47</td>\n",
       "      <td>57</td>\n",
       "      <td>44</td>\n",
       "    </tr>\n",
       "    <tr>\n",
       "      <th>4</th>\n",
       "      <td>male</td>\n",
       "      <td>group C</td>\n",
       "      <td>some college</td>\n",
       "      <td>standard</td>\n",
       "      <td>none</td>\n",
       "      <td>76</td>\n",
       "      <td>78</td>\n",
       "      <td>75</td>\n",
       "    </tr>\n",
       "    <tr>\n",
       "      <th>...</th>\n",
       "      <td>...</td>\n",
       "      <td>...</td>\n",
       "      <td>...</td>\n",
       "      <td>...</td>\n",
       "      <td>...</td>\n",
       "      <td>...</td>\n",
       "      <td>...</td>\n",
       "      <td>...</td>\n",
       "    </tr>\n",
       "    <tr>\n",
       "      <th>995</th>\n",
       "      <td>female</td>\n",
       "      <td>group E</td>\n",
       "      <td>master's degree</td>\n",
       "      <td>standard</td>\n",
       "      <td>completed</td>\n",
       "      <td>88</td>\n",
       "      <td>99</td>\n",
       "      <td>95</td>\n",
       "    </tr>\n",
       "    <tr>\n",
       "      <th>996</th>\n",
       "      <td>male</td>\n",
       "      <td>group C</td>\n",
       "      <td>high school</td>\n",
       "      <td>free/reduced</td>\n",
       "      <td>none</td>\n",
       "      <td>62</td>\n",
       "      <td>55</td>\n",
       "      <td>55</td>\n",
       "    </tr>\n",
       "    <tr>\n",
       "      <th>997</th>\n",
       "      <td>female</td>\n",
       "      <td>group C</td>\n",
       "      <td>high school</td>\n",
       "      <td>free/reduced</td>\n",
       "      <td>completed</td>\n",
       "      <td>59</td>\n",
       "      <td>71</td>\n",
       "      <td>65</td>\n",
       "    </tr>\n",
       "    <tr>\n",
       "      <th>998</th>\n",
       "      <td>female</td>\n",
       "      <td>group D</td>\n",
       "      <td>some college</td>\n",
       "      <td>standard</td>\n",
       "      <td>completed</td>\n",
       "      <td>68</td>\n",
       "      <td>78</td>\n",
       "      <td>77</td>\n",
       "    </tr>\n",
       "    <tr>\n",
       "      <th>999</th>\n",
       "      <td>female</td>\n",
       "      <td>group D</td>\n",
       "      <td>some college</td>\n",
       "      <td>free/reduced</td>\n",
       "      <td>none</td>\n",
       "      <td>77</td>\n",
       "      <td>86</td>\n",
       "      <td>86</td>\n",
       "    </tr>\n",
       "  </tbody>\n",
       "</table>\n",
       "<p>1000 rows × 8 columns</p>\n",
       "</div>"
      ],
      "text/plain": [
       "     gender race/ethnicity parental level of education         lunch  \\\n",
       "0    female        group B           bachelor's degree      standard   \n",
       "1    female        group C                some college      standard   \n",
       "2    female        group B             master's degree      standard   \n",
       "3      male        group A          associate's degree  free/reduced   \n",
       "4      male        group C                some college      standard   \n",
       "..      ...            ...                         ...           ...   \n",
       "995  female        group E             master's degree      standard   \n",
       "996    male        group C                 high school  free/reduced   \n",
       "997  female        group C                 high school  free/reduced   \n",
       "998  female        group D                some college      standard   \n",
       "999  female        group D                some college  free/reduced   \n",
       "\n",
       "    test preparation course  math score  reading score  writing score  \n",
       "0                      none          72             72             74  \n",
       "1                 completed          69             90             88  \n",
       "2                      none          90             95             93  \n",
       "3                      none          47             57             44  \n",
       "4                      none          76             78             75  \n",
       "..                      ...         ...            ...            ...  \n",
       "995               completed          88             99             95  \n",
       "996                    none          62             55             55  \n",
       "997               completed          59             71             65  \n",
       "998               completed          68             78             77  \n",
       "999                    none          77             86             86  \n",
       "\n",
       "[1000 rows x 8 columns]"
      ]
     },
     "execution_count": 9,
     "metadata": {},
     "output_type": "execute_result"
    }
   ],
   "source": [
    "df"
   ]
  },
  {
   "cell_type": "code",
   "execution_count": 10,
   "id": "d71c2156",
   "metadata": {},
   "outputs": [
    {
     "data": {
      "text/html": [
       "<div>\n",
       "<style scoped>\n",
       "    .dataframe tbody tr th:only-of-type {\n",
       "        vertical-align: middle;\n",
       "    }\n",
       "\n",
       "    .dataframe tbody tr th {\n",
       "        vertical-align: top;\n",
       "    }\n",
       "\n",
       "    .dataframe thead th {\n",
       "        text-align: right;\n",
       "    }\n",
       "</style>\n",
       "<table border=\"1\" class=\"dataframe\">\n",
       "  <thead>\n",
       "    <tr style=\"text-align: right;\">\n",
       "      <th></th>\n",
       "      <th>gender</th>\n",
       "      <th>race/ethnicity</th>\n",
       "      <th>parental level of education</th>\n",
       "      <th>lunch</th>\n",
       "      <th>test preparation course</th>\n",
       "      <th>math score</th>\n",
       "      <th>reading score</th>\n",
       "      <th>writing score</th>\n",
       "    </tr>\n",
       "  </thead>\n",
       "  <tbody>\n",
       "    <tr>\n",
       "      <th>0</th>\n",
       "      <td>female</td>\n",
       "      <td>group B</td>\n",
       "      <td>bachelor's degree</td>\n",
       "      <td>standard</td>\n",
       "      <td>none</td>\n",
       "      <td>72</td>\n",
       "      <td>72</td>\n",
       "      <td>74</td>\n",
       "    </tr>\n",
       "    <tr>\n",
       "      <th>83</th>\n",
       "      <td>male</td>\n",
       "      <td>group E</td>\n",
       "      <td>associate's degree</td>\n",
       "      <td>standard</td>\n",
       "      <td>none</td>\n",
       "      <td>72</td>\n",
       "      <td>64</td>\n",
       "      <td>63</td>\n",
       "    </tr>\n",
       "    <tr>\n",
       "      <th>126</th>\n",
       "      <td>male</td>\n",
       "      <td>group B</td>\n",
       "      <td>some high school</td>\n",
       "      <td>standard</td>\n",
       "      <td>none</td>\n",
       "      <td>72</td>\n",
       "      <td>68</td>\n",
       "      <td>67</td>\n",
       "    </tr>\n",
       "    <tr>\n",
       "      <th>170</th>\n",
       "      <td>male</td>\n",
       "      <td>group A</td>\n",
       "      <td>high school</td>\n",
       "      <td>standard</td>\n",
       "      <td>completed</td>\n",
       "      <td>72</td>\n",
       "      <td>73</td>\n",
       "      <td>74</td>\n",
       "    </tr>\n",
       "    <tr>\n",
       "      <th>226</th>\n",
       "      <td>female</td>\n",
       "      <td>group C</td>\n",
       "      <td>some college</td>\n",
       "      <td>standard</td>\n",
       "      <td>none</td>\n",
       "      <td>72</td>\n",
       "      <td>72</td>\n",
       "      <td>71</td>\n",
       "    </tr>\n",
       "    <tr>\n",
       "      <th>345</th>\n",
       "      <td>female</td>\n",
       "      <td>group C</td>\n",
       "      <td>high school</td>\n",
       "      <td>standard</td>\n",
       "      <td>none</td>\n",
       "      <td>72</td>\n",
       "      <td>80</td>\n",
       "      <td>75</td>\n",
       "    </tr>\n",
       "    <tr>\n",
       "      <th>459</th>\n",
       "      <td>male</td>\n",
       "      <td>group B</td>\n",
       "      <td>high school</td>\n",
       "      <td>standard</td>\n",
       "      <td>completed</td>\n",
       "      <td>72</td>\n",
       "      <td>65</td>\n",
       "      <td>68</td>\n",
       "    </tr>\n",
       "    <tr>\n",
       "      <th>467</th>\n",
       "      <td>male</td>\n",
       "      <td>group A</td>\n",
       "      <td>high school</td>\n",
       "      <td>free/reduced</td>\n",
       "      <td>completed</td>\n",
       "      <td>72</td>\n",
       "      <td>67</td>\n",
       "      <td>65</td>\n",
       "    </tr>\n",
       "    <tr>\n",
       "      <th>547</th>\n",
       "      <td>male</td>\n",
       "      <td>group C</td>\n",
       "      <td>high school</td>\n",
       "      <td>standard</td>\n",
       "      <td>completed</td>\n",
       "      <td>72</td>\n",
       "      <td>67</td>\n",
       "      <td>64</td>\n",
       "    </tr>\n",
       "    <tr>\n",
       "      <th>642</th>\n",
       "      <td>female</td>\n",
       "      <td>group B</td>\n",
       "      <td>some high school</td>\n",
       "      <td>free/reduced</td>\n",
       "      <td>none</td>\n",
       "      <td>72</td>\n",
       "      <td>81</td>\n",
       "      <td>79</td>\n",
       "    </tr>\n",
       "    <tr>\n",
       "      <th>745</th>\n",
       "      <td>male</td>\n",
       "      <td>group D</td>\n",
       "      <td>associate's degree</td>\n",
       "      <td>standard</td>\n",
       "      <td>none</td>\n",
       "      <td>72</td>\n",
       "      <td>79</td>\n",
       "      <td>74</td>\n",
       "    </tr>\n",
       "    <tr>\n",
       "      <th>778</th>\n",
       "      <td>female</td>\n",
       "      <td>group A</td>\n",
       "      <td>some college</td>\n",
       "      <td>standard</td>\n",
       "      <td>completed</td>\n",
       "      <td>72</td>\n",
       "      <td>79</td>\n",
       "      <td>82</td>\n",
       "    </tr>\n",
       "    <tr>\n",
       "      <th>786</th>\n",
       "      <td>female</td>\n",
       "      <td>group E</td>\n",
       "      <td>some high school</td>\n",
       "      <td>free/reduced</td>\n",
       "      <td>none</td>\n",
       "      <td>72</td>\n",
       "      <td>79</td>\n",
       "      <td>77</td>\n",
       "    </tr>\n",
       "    <tr>\n",
       "      <th>814</th>\n",
       "      <td>female</td>\n",
       "      <td>group C</td>\n",
       "      <td>high school</td>\n",
       "      <td>standard</td>\n",
       "      <td>none</td>\n",
       "      <td>72</td>\n",
       "      <td>80</td>\n",
       "      <td>83</td>\n",
       "    </tr>\n",
       "    <tr>\n",
       "      <th>922</th>\n",
       "      <td>male</td>\n",
       "      <td>group D</td>\n",
       "      <td>high school</td>\n",
       "      <td>standard</td>\n",
       "      <td>none</td>\n",
       "      <td>72</td>\n",
       "      <td>66</td>\n",
       "      <td>66</td>\n",
       "    </tr>\n",
       "    <tr>\n",
       "      <th>940</th>\n",
       "      <td>male</td>\n",
       "      <td>group C</td>\n",
       "      <td>master's degree</td>\n",
       "      <td>free/reduced</td>\n",
       "      <td>completed</td>\n",
       "      <td>72</td>\n",
       "      <td>66</td>\n",
       "      <td>72</td>\n",
       "    </tr>\n",
       "    <tr>\n",
       "      <th>955</th>\n",
       "      <td>male</td>\n",
       "      <td>group E</td>\n",
       "      <td>associate's degree</td>\n",
       "      <td>standard</td>\n",
       "      <td>none</td>\n",
       "      <td>72</td>\n",
       "      <td>57</td>\n",
       "      <td>62</td>\n",
       "    </tr>\n",
       "    <tr>\n",
       "      <th>964</th>\n",
       "      <td>male</td>\n",
       "      <td>group D</td>\n",
       "      <td>some college</td>\n",
       "      <td>standard</td>\n",
       "      <td>none</td>\n",
       "      <td>72</td>\n",
       "      <td>57</td>\n",
       "      <td>58</td>\n",
       "    </tr>\n",
       "  </tbody>\n",
       "</table>\n",
       "</div>"
      ],
      "text/plain": [
       "     gender race/ethnicity parental level of education         lunch  \\\n",
       "0    female        group B           bachelor's degree      standard   \n",
       "83     male        group E          associate's degree      standard   \n",
       "126    male        group B            some high school      standard   \n",
       "170    male        group A                 high school      standard   \n",
       "226  female        group C                some college      standard   \n",
       "345  female        group C                 high school      standard   \n",
       "459    male        group B                 high school      standard   \n",
       "467    male        group A                 high school  free/reduced   \n",
       "547    male        group C                 high school      standard   \n",
       "642  female        group B            some high school  free/reduced   \n",
       "745    male        group D          associate's degree      standard   \n",
       "778  female        group A                some college      standard   \n",
       "786  female        group E            some high school  free/reduced   \n",
       "814  female        group C                 high school      standard   \n",
       "922    male        group D                 high school      standard   \n",
       "940    male        group C             master's degree  free/reduced   \n",
       "955    male        group E          associate's degree      standard   \n",
       "964    male        group D                some college      standard   \n",
       "\n",
       "    test preparation course  math score  reading score  writing score  \n",
       "0                      none          72             72             74  \n",
       "83                     none          72             64             63  \n",
       "126                    none          72             68             67  \n",
       "170               completed          72             73             74  \n",
       "226                    none          72             72             71  \n",
       "345                    none          72             80             75  \n",
       "459               completed          72             65             68  \n",
       "467               completed          72             67             65  \n",
       "547               completed          72             67             64  \n",
       "642                    none          72             81             79  \n",
       "745                    none          72             79             74  \n",
       "778               completed          72             79             82  \n",
       "786                    none          72             79             77  \n",
       "814                    none          72             80             83  \n",
       "922                    none          72             66             66  \n",
       "940               completed          72             66             72  \n",
       "955                    none          72             57             62  \n",
       "964                    none          72             57             58  "
      ]
     },
     "execution_count": 10,
     "metadata": {},
     "output_type": "execute_result"
    }
   ],
   "source": [
    "x72 = df[df['math score']==72]\n",
    "x72"
   ]
  },
  {
   "cell_type": "code",
   "execution_count": 11,
   "id": "16230ffc",
   "metadata": {},
   "outputs": [
    {
     "name": "stdout",
     "output_type": "stream",
     "text": [
      "18\n"
     ]
    }
   ],
   "source": [
    "n72 = len(x72)\n",
    "print(n72)"
   ]
  },
  {
   "cell_type": "code",
   "execution_count": 12,
   "id": "800f69bb",
   "metadata": {},
   "outputs": [
    {
     "name": "stdout",
     "output_type": "stream",
     "text": [
      "1000\n"
     ]
    }
   ],
   "source": [
    "n = len(df)\n",
    "print(n)"
   ]
  },
  {
   "cell_type": "code",
   "execution_count": 13,
   "id": "0c50d39c",
   "metadata": {},
   "outputs": [
    {
     "name": "stdout",
     "output_type": "stream",
     "text": [
      "0.018\n"
     ]
    }
   ],
   "source": [
    "p = n72/n\n",
    "print(p)"
   ]
  },
  {
   "cell_type": "code",
   "execution_count": 14,
   "id": "a4059acb",
   "metadata": {},
   "outputs": [
    {
     "data": {
      "text/html": [
       "<div>\n",
       "<style scoped>\n",
       "    .dataframe tbody tr th:only-of-type {\n",
       "        vertical-align: middle;\n",
       "    }\n",
       "\n",
       "    .dataframe tbody tr th {\n",
       "        vertical-align: top;\n",
       "    }\n",
       "\n",
       "    .dataframe thead th {\n",
       "        text-align: right;\n",
       "    }\n",
       "</style>\n",
       "<table border=\"1\" class=\"dataframe\">\n",
       "  <thead>\n",
       "    <tr style=\"text-align: right;\">\n",
       "      <th></th>\n",
       "      <th>gender</th>\n",
       "      <th>race/ethnicity</th>\n",
       "      <th>parental level of education</th>\n",
       "      <th>lunch</th>\n",
       "      <th>test preparation course</th>\n",
       "      <th>math score</th>\n",
       "      <th>reading score</th>\n",
       "      <th>writing score</th>\n",
       "    </tr>\n",
       "  </thead>\n",
       "  <tbody>\n",
       "    <tr>\n",
       "      <th>3</th>\n",
       "      <td>male</td>\n",
       "      <td>group A</td>\n",
       "      <td>associate's degree</td>\n",
       "      <td>free/reduced</td>\n",
       "      <td>none</td>\n",
       "      <td>47</td>\n",
       "      <td>57</td>\n",
       "      <td>44</td>\n",
       "    </tr>\n",
       "    <tr>\n",
       "      <th>4</th>\n",
       "      <td>male</td>\n",
       "      <td>group C</td>\n",
       "      <td>some college</td>\n",
       "      <td>standard</td>\n",
       "      <td>none</td>\n",
       "      <td>76</td>\n",
       "      <td>78</td>\n",
       "      <td>75</td>\n",
       "    </tr>\n",
       "    <tr>\n",
       "      <th>7</th>\n",
       "      <td>male</td>\n",
       "      <td>group B</td>\n",
       "      <td>some college</td>\n",
       "      <td>free/reduced</td>\n",
       "      <td>none</td>\n",
       "      <td>40</td>\n",
       "      <td>43</td>\n",
       "      <td>39</td>\n",
       "    </tr>\n",
       "    <tr>\n",
       "      <th>8</th>\n",
       "      <td>male</td>\n",
       "      <td>group D</td>\n",
       "      <td>high school</td>\n",
       "      <td>free/reduced</td>\n",
       "      <td>completed</td>\n",
       "      <td>64</td>\n",
       "      <td>64</td>\n",
       "      <td>67</td>\n",
       "    </tr>\n",
       "    <tr>\n",
       "      <th>10</th>\n",
       "      <td>male</td>\n",
       "      <td>group C</td>\n",
       "      <td>associate's degree</td>\n",
       "      <td>standard</td>\n",
       "      <td>none</td>\n",
       "      <td>58</td>\n",
       "      <td>54</td>\n",
       "      <td>52</td>\n",
       "    </tr>\n",
       "    <tr>\n",
       "      <th>...</th>\n",
       "      <td>...</td>\n",
       "      <td>...</td>\n",
       "      <td>...</td>\n",
       "      <td>...</td>\n",
       "      <td>...</td>\n",
       "      <td>...</td>\n",
       "      <td>...</td>\n",
       "      <td>...</td>\n",
       "    </tr>\n",
       "    <tr>\n",
       "      <th>985</th>\n",
       "      <td>male</td>\n",
       "      <td>group A</td>\n",
       "      <td>high school</td>\n",
       "      <td>standard</td>\n",
       "      <td>none</td>\n",
       "      <td>57</td>\n",
       "      <td>51</td>\n",
       "      <td>54</td>\n",
       "    </tr>\n",
       "    <tr>\n",
       "      <th>987</th>\n",
       "      <td>male</td>\n",
       "      <td>group E</td>\n",
       "      <td>some high school</td>\n",
       "      <td>standard</td>\n",
       "      <td>completed</td>\n",
       "      <td>81</td>\n",
       "      <td>75</td>\n",
       "      <td>76</td>\n",
       "    </tr>\n",
       "    <tr>\n",
       "      <th>990</th>\n",
       "      <td>male</td>\n",
       "      <td>group E</td>\n",
       "      <td>high school</td>\n",
       "      <td>free/reduced</td>\n",
       "      <td>completed</td>\n",
       "      <td>86</td>\n",
       "      <td>81</td>\n",
       "      <td>75</td>\n",
       "    </tr>\n",
       "    <tr>\n",
       "      <th>994</th>\n",
       "      <td>male</td>\n",
       "      <td>group A</td>\n",
       "      <td>high school</td>\n",
       "      <td>standard</td>\n",
       "      <td>none</td>\n",
       "      <td>63</td>\n",
       "      <td>63</td>\n",
       "      <td>62</td>\n",
       "    </tr>\n",
       "    <tr>\n",
       "      <th>996</th>\n",
       "      <td>male</td>\n",
       "      <td>group C</td>\n",
       "      <td>high school</td>\n",
       "      <td>free/reduced</td>\n",
       "      <td>none</td>\n",
       "      <td>62</td>\n",
       "      <td>55</td>\n",
       "      <td>55</td>\n",
       "    </tr>\n",
       "  </tbody>\n",
       "</table>\n",
       "<p>482 rows × 8 columns</p>\n",
       "</div>"
      ],
      "text/plain": [
       "    gender race/ethnicity parental level of education         lunch  \\\n",
       "3     male        group A          associate's degree  free/reduced   \n",
       "4     male        group C                some college      standard   \n",
       "7     male        group B                some college  free/reduced   \n",
       "8     male        group D                 high school  free/reduced   \n",
       "10    male        group C          associate's degree      standard   \n",
       "..     ...            ...                         ...           ...   \n",
       "985   male        group A                 high school      standard   \n",
       "987   male        group E            some high school      standard   \n",
       "990   male        group E                 high school  free/reduced   \n",
       "994   male        group A                 high school      standard   \n",
       "996   male        group C                 high school  free/reduced   \n",
       "\n",
       "    test preparation course  math score  reading score  writing score  \n",
       "3                      none          47             57             44  \n",
       "4                      none          76             78             75  \n",
       "7                      none          40             43             39  \n",
       "8                 completed          64             64             67  \n",
       "10                     none          58             54             52  \n",
       "..                      ...         ...            ...            ...  \n",
       "985                    none          57             51             54  \n",
       "987               completed          81             75             76  \n",
       "990               completed          86             81             75  \n",
       "994                    none          63             63             62  \n",
       "996                    none          62             55             55  \n",
       "\n",
       "[482 rows x 8 columns]"
      ]
     },
     "execution_count": 14,
     "metadata": {},
     "output_type": "execute_result"
    }
   ],
   "source": [
    "man = df[df['gender']=='male']\n",
    "man"
   ]
  },
  {
   "cell_type": "code",
   "execution_count": 15,
   "id": "5c0891cc",
   "metadata": {},
   "outputs": [
    {
     "data": {
      "text/plain": [
       "0.482"
      ]
     },
     "execution_count": 15,
     "metadata": {},
     "output_type": "execute_result"
    }
   ],
   "source": [
    "p_man = len(man) /len(df)\n",
    "p_man"
   ]
  },
  {
   "cell_type": "code",
   "execution_count": 16,
   "id": "cfec7073",
   "metadata": {},
   "outputs": [
    {
     "data": {
      "text/html": [
       "<div>\n",
       "<style scoped>\n",
       "    .dataframe tbody tr th:only-of-type {\n",
       "        vertical-align: middle;\n",
       "    }\n",
       "\n",
       "    .dataframe tbody tr th {\n",
       "        vertical-align: top;\n",
       "    }\n",
       "\n",
       "    .dataframe thead th {\n",
       "        text-align: right;\n",
       "    }\n",
       "</style>\n",
       "<table border=\"1\" class=\"dataframe\">\n",
       "  <thead>\n",
       "    <tr style=\"text-align: right;\">\n",
       "      <th></th>\n",
       "      <th>gender</th>\n",
       "      <th>race/ethnicity</th>\n",
       "      <th>parental level of education</th>\n",
       "      <th>lunch</th>\n",
       "      <th>test preparation course</th>\n",
       "      <th>math score</th>\n",
       "      <th>reading score</th>\n",
       "      <th>writing score</th>\n",
       "    </tr>\n",
       "  </thead>\n",
       "  <tbody>\n",
       "    <tr>\n",
       "      <th>4</th>\n",
       "      <td>male</td>\n",
       "      <td>group C</td>\n",
       "      <td>some college</td>\n",
       "      <td>standard</td>\n",
       "      <td>none</td>\n",
       "      <td>76</td>\n",
       "      <td>78</td>\n",
       "      <td>75</td>\n",
       "    </tr>\n",
       "    <tr>\n",
       "      <th>13</th>\n",
       "      <td>male</td>\n",
       "      <td>group A</td>\n",
       "      <td>some college</td>\n",
       "      <td>standard</td>\n",
       "      <td>completed</td>\n",
       "      <td>78</td>\n",
       "      <td>72</td>\n",
       "      <td>70</td>\n",
       "    </tr>\n",
       "    <tr>\n",
       "      <th>16</th>\n",
       "      <td>male</td>\n",
       "      <td>group C</td>\n",
       "      <td>high school</td>\n",
       "      <td>standard</td>\n",
       "      <td>none</td>\n",
       "      <td>88</td>\n",
       "      <td>89</td>\n",
       "      <td>86</td>\n",
       "    </tr>\n",
       "    <tr>\n",
       "      <th>24</th>\n",
       "      <td>male</td>\n",
       "      <td>group D</td>\n",
       "      <td>bachelor's degree</td>\n",
       "      <td>free/reduced</td>\n",
       "      <td>completed</td>\n",
       "      <td>74</td>\n",
       "      <td>71</td>\n",
       "      <td>80</td>\n",
       "    </tr>\n",
       "    <tr>\n",
       "      <th>25</th>\n",
       "      <td>male</td>\n",
       "      <td>group A</td>\n",
       "      <td>master's degree</td>\n",
       "      <td>free/reduced</td>\n",
       "      <td>none</td>\n",
       "      <td>73</td>\n",
       "      <td>74</td>\n",
       "      <td>72</td>\n",
       "    </tr>\n",
       "    <tr>\n",
       "      <th>...</th>\n",
       "      <td>...</td>\n",
       "      <td>...</td>\n",
       "      <td>...</td>\n",
       "      <td>...</td>\n",
       "      <td>...</td>\n",
       "      <td>...</td>\n",
       "      <td>...</td>\n",
       "      <td>...</td>\n",
       "    </tr>\n",
       "    <tr>\n",
       "      <th>971</th>\n",
       "      <td>male</td>\n",
       "      <td>group C</td>\n",
       "      <td>some high school</td>\n",
       "      <td>standard</td>\n",
       "      <td>completed</td>\n",
       "      <td>78</td>\n",
       "      <td>72</td>\n",
       "      <td>69</td>\n",
       "    </tr>\n",
       "    <tr>\n",
       "      <th>981</th>\n",
       "      <td>male</td>\n",
       "      <td>group D</td>\n",
       "      <td>some high school</td>\n",
       "      <td>standard</td>\n",
       "      <td>none</td>\n",
       "      <td>81</td>\n",
       "      <td>78</td>\n",
       "      <td>78</td>\n",
       "    </tr>\n",
       "    <tr>\n",
       "      <th>982</th>\n",
       "      <td>male</td>\n",
       "      <td>group B</td>\n",
       "      <td>some high school</td>\n",
       "      <td>standard</td>\n",
       "      <td>completed</td>\n",
       "      <td>79</td>\n",
       "      <td>85</td>\n",
       "      <td>86</td>\n",
       "    </tr>\n",
       "    <tr>\n",
       "      <th>987</th>\n",
       "      <td>male</td>\n",
       "      <td>group E</td>\n",
       "      <td>some high school</td>\n",
       "      <td>standard</td>\n",
       "      <td>completed</td>\n",
       "      <td>81</td>\n",
       "      <td>75</td>\n",
       "      <td>76</td>\n",
       "    </tr>\n",
       "    <tr>\n",
       "      <th>990</th>\n",
       "      <td>male</td>\n",
       "      <td>group E</td>\n",
       "      <td>high school</td>\n",
       "      <td>free/reduced</td>\n",
       "      <td>completed</td>\n",
       "      <td>86</td>\n",
       "      <td>81</td>\n",
       "      <td>75</td>\n",
       "    </tr>\n",
       "  </tbody>\n",
       "</table>\n",
       "<p>197 rows × 8 columns</p>\n",
       "</div>"
      ],
      "text/plain": [
       "    gender race/ethnicity parental level of education         lunch  \\\n",
       "4     male        group C                some college      standard   \n",
       "13    male        group A                some college      standard   \n",
       "16    male        group C                 high school      standard   \n",
       "24    male        group D           bachelor's degree  free/reduced   \n",
       "25    male        group A             master's degree  free/reduced   \n",
       "..     ...            ...                         ...           ...   \n",
       "971   male        group C            some high school      standard   \n",
       "981   male        group D            some high school      standard   \n",
       "982   male        group B            some high school      standard   \n",
       "987   male        group E            some high school      standard   \n",
       "990   male        group E                 high school  free/reduced   \n",
       "\n",
       "    test preparation course  math score  reading score  writing score  \n",
       "4                      none          76             78             75  \n",
       "13                completed          78             72             70  \n",
       "16                     none          88             89             86  \n",
       "24                completed          74             71             80  \n",
       "25                     none          73             74             72  \n",
       "..                      ...         ...            ...            ...  \n",
       "971               completed          78             72             69  \n",
       "981                    none          81             78             78  \n",
       "982               completed          79             85             86  \n",
       "987               completed          81             75             76  \n",
       "990               completed          86             81             75  \n",
       "\n",
       "[197 rows x 8 columns]"
      ]
     },
     "execution_count": 16,
     "metadata": {},
     "output_type": "execute_result"
    }
   ],
   "source": [
    "man72 = man[man['math score']> 72]\n",
    "man72"
   ]
  },
  {
   "cell_type": "code",
   "execution_count": 17,
   "id": "8f57078d",
   "metadata": {},
   "outputs": [
    {
     "data": {
      "text/plain": [
       "0.197"
      ]
     },
     "execution_count": 17,
     "metadata": {},
     "output_type": "execute_result"
    }
   ],
   "source": [
    "p_man72 = len(man72) / len(df)\n",
    "p_man72"
   ]
  },
  {
   "cell_type": "code",
   "execution_count": 18,
   "id": "32a19797",
   "metadata": {},
   "outputs": [
    {
     "data": {
      "text/plain": [
       "0.40871369294605814"
      ]
     },
     "execution_count": 18,
     "metadata": {},
     "output_type": "execute_result"
    }
   ],
   "source": [
    "p_man72 / p_man"
   ]
  },
  {
   "cell_type": "code",
   "execution_count": 19,
   "id": "719fdcc0",
   "metadata": {},
   "outputs": [
    {
     "data": {
      "text/html": [
       "<div>\n",
       "<style scoped>\n",
       "    .dataframe tbody tr th:only-of-type {\n",
       "        vertical-align: middle;\n",
       "    }\n",
       "\n",
       "    .dataframe tbody tr th {\n",
       "        vertical-align: top;\n",
       "    }\n",
       "\n",
       "    .dataframe thead th {\n",
       "        text-align: right;\n",
       "    }\n",
       "</style>\n",
       "<table border=\"1\" class=\"dataframe\">\n",
       "  <thead>\n",
       "    <tr style=\"text-align: right;\">\n",
       "      <th></th>\n",
       "      <th>math score</th>\n",
       "      <th>reading score</th>\n",
       "      <th>writing score</th>\n",
       "    </tr>\n",
       "  </thead>\n",
       "  <tbody>\n",
       "    <tr>\n",
       "      <th>count</th>\n",
       "      <td>1000.00000</td>\n",
       "      <td>1000.000000</td>\n",
       "      <td>1000.000000</td>\n",
       "    </tr>\n",
       "    <tr>\n",
       "      <th>mean</th>\n",
       "      <td>66.08900</td>\n",
       "      <td>69.169000</td>\n",
       "      <td>68.054000</td>\n",
       "    </tr>\n",
       "    <tr>\n",
       "      <th>std</th>\n",
       "      <td>15.16308</td>\n",
       "      <td>14.600192</td>\n",
       "      <td>15.195657</td>\n",
       "    </tr>\n",
       "    <tr>\n",
       "      <th>min</th>\n",
       "      <td>0.00000</td>\n",
       "      <td>17.000000</td>\n",
       "      <td>10.000000</td>\n",
       "    </tr>\n",
       "    <tr>\n",
       "      <th>25%</th>\n",
       "      <td>57.00000</td>\n",
       "      <td>59.000000</td>\n",
       "      <td>57.750000</td>\n",
       "    </tr>\n",
       "    <tr>\n",
       "      <th>50%</th>\n",
       "      <td>66.00000</td>\n",
       "      <td>70.000000</td>\n",
       "      <td>69.000000</td>\n",
       "    </tr>\n",
       "    <tr>\n",
       "      <th>75%</th>\n",
       "      <td>77.00000</td>\n",
       "      <td>79.000000</td>\n",
       "      <td>79.000000</td>\n",
       "    </tr>\n",
       "    <tr>\n",
       "      <th>max</th>\n",
       "      <td>100.00000</td>\n",
       "      <td>100.000000</td>\n",
       "      <td>100.000000</td>\n",
       "    </tr>\n",
       "  </tbody>\n",
       "</table>\n",
       "</div>"
      ],
      "text/plain": [
       "       math score  reading score  writing score\n",
       "count  1000.00000    1000.000000    1000.000000\n",
       "mean     66.08900      69.169000      68.054000\n",
       "std      15.16308      14.600192      15.195657\n",
       "min       0.00000      17.000000      10.000000\n",
       "25%      57.00000      59.000000      57.750000\n",
       "50%      66.00000      70.000000      69.000000\n",
       "75%      77.00000      79.000000      79.000000\n",
       "max     100.00000     100.000000     100.000000"
      ]
     },
     "execution_count": 19,
     "metadata": {},
     "output_type": "execute_result"
    }
   ],
   "source": [
    "df.describe()"
   ]
  },
  {
   "cell_type": "code",
   "execution_count": 20,
   "id": "eb54481d",
   "metadata": {},
   "outputs": [
    {
     "data": {
      "image/png": "[encoded data removed]",
      "text/plain": [
       "<Figure size 432x288 with 1 Axes>"
      ]
     },
     "metadata": {
      "needs_background": "light"
     },
     "output_type": "display_data"
    }
   ],
   "source": [
    "plt.hist(df['math score'])\n",
    "plt.show()"
   ]
  },
  {
   "cell_type": "code",
   "execution_count": 21,
   "id": "f1e7403a",
   "metadata": {},
   "outputs": [
    {
     "data": {
      "image/png": "[encoded data removed]",
      "text/plain": [
       "<Figure size 432x288 with 1 Axes>"
      ]
     },
     "metadata": {
      "needs_background": "light"
     },
     "output_type": "display_data"
    }
   ],
   "source": [
    "plt.hist(df['math score'], bins = 100)\n",
    "plt.show()"
   ]
  },
  {
   "cell_type": "code",
   "execution_count": 22,
   "id": "efab565b",
   "metadata": {},
   "outputs": [
    {
     "data": {
      "image/png": "[encoded data removed]",
      "text/plain": [
       "<Figure size 432x288 with 1 Axes>"
      ]
     },
     "metadata": {
      "needs_background": "light"
     },
     "output_type": "display_data"
    }
   ],
   "source": [
    "plt.hist(df['reading score'], color = 'r')\n",
    "plt.show()"
   ]
  },
  {
   "cell_type": "code",
   "execution_count": 23,
   "id": "a23eff17",
   "metadata": {},
   "outputs": [
    {
     "data": {
      "image/png": "[encoded data removed]",
      "text/plain": [
       "<Figure size 432x288 with 1 Axes>"
      ]
     },
     "metadata": {
      "needs_background": "light"
     },
     "output_type": "display_data"
    }
   ],
   "source": [
    "plt.hist(df['writing score'], color = 'g')\n",
    "plt.show()"
   ]
  },
  {
   "cell_type": "code",
   "execution_count": 24,
   "id": "7f6a45a7",
   "metadata": {},
   "outputs": [
    {
     "data": {
      "text/html": [
       "<div>\n",
       "<style scoped>\n",
       "    .dataframe tbody tr th:only-of-type {\n",
       "        vertical-align: middle;\n",
       "    }\n",
       "\n",
       "    .dataframe tbody tr th {\n",
       "        vertical-align: top;\n",
       "    }\n",
       "\n",
       "    .dataframe thead th {\n",
       "        text-align: right;\n",
       "    }\n",
       "</style>\n",
       "<table border=\"1\" class=\"dataframe\">\n",
       "  <thead>\n",
       "    <tr style=\"text-align: right;\">\n",
       "      <th></th>\n",
       "      <th>math score</th>\n",
       "      <th>reading score</th>\n",
       "      <th>writing score</th>\n",
       "    </tr>\n",
       "  </thead>\n",
       "  <tbody>\n",
       "    <tr>\n",
       "      <th>count</th>\n",
       "      <td>1000.00000</td>\n",
       "      <td>1000.000000</td>\n",
       "      <td>1000.000000</td>\n",
       "    </tr>\n",
       "    <tr>\n",
       "      <th>mean</th>\n",
       "      <td>66.08900</td>\n",
       "      <td>69.169000</td>\n",
       "      <td>68.054000</td>\n",
       "    </tr>\n",
       "    <tr>\n",
       "      <th>std</th>\n",
       "      <td>15.16308</td>\n",
       "      <td>14.600192</td>\n",
       "      <td>15.195657</td>\n",
       "    </tr>\n",
       "    <tr>\n",
       "      <th>min</th>\n",
       "      <td>0.00000</td>\n",
       "      <td>17.000000</td>\n",
       "      <td>10.000000</td>\n",
       "    </tr>\n",
       "    <tr>\n",
       "      <th>25%</th>\n",
       "      <td>57.00000</td>\n",
       "      <td>59.000000</td>\n",
       "      <td>57.750000</td>\n",
       "    </tr>\n",
       "    <tr>\n",
       "      <th>50%</th>\n",
       "      <td>66.00000</td>\n",
       "      <td>70.000000</td>\n",
       "      <td>69.000000</td>\n",
       "    </tr>\n",
       "    <tr>\n",
       "      <th>75%</th>\n",
       "      <td>77.00000</td>\n",
       "      <td>79.000000</td>\n",
       "      <td>79.000000</td>\n",
       "    </tr>\n",
       "    <tr>\n",
       "      <th>max</th>\n",
       "      <td>100.00000</td>\n",
       "      <td>100.000000</td>\n",
       "      <td>100.000000</td>\n",
       "    </tr>\n",
       "  </tbody>\n",
       "</table>\n",
       "</div>"
      ],
      "text/plain": [
       "       math score  reading score  writing score\n",
       "count  1000.00000    1000.000000    1000.000000\n",
       "mean     66.08900      69.169000      68.054000\n",
       "std      15.16308      14.600192      15.195657\n",
       "min       0.00000      17.000000      10.000000\n",
       "25%      57.00000      59.000000      57.750000\n",
       "50%      66.00000      70.000000      69.000000\n",
       "75%      77.00000      79.000000      79.000000\n",
       "max     100.00000     100.000000     100.000000"
      ]
     },
     "execution_count": 24,
     "metadata": {},
     "output_type": "execute_result"
    }
   ],
   "source": [
    "df.describe()"
   ]
  },
  {
   "cell_type": "code",
   "execution_count": 25,
   "id": "6852b72f",
   "metadata": {},
   "outputs": [
    {
     "data": {
      "text/plain": [
       "66.089"
      ]
     },
     "execution_count": 25,
     "metadata": {},
     "output_type": "execute_result"
    }
   ],
   "source": [
    "np.mean(df['math score'])"
   ]
  },
  {
   "cell_type": "code",
   "execution_count": 26,
   "id": "9f1dd6e8",
   "metadata": {},
   "outputs": [],
   "source": [
    "n = len(df['math score'])\n",
    "sum_x = 0\n",
    "for x in df['math score']:\n",
    "    sum_x += x"
   ]
  },
  {
   "cell_type": "code",
   "execution_count": 27,
   "id": "f024ef16",
   "metadata": {},
   "outputs": [
    {
     "name": "stdout",
     "output_type": "stream",
     "text": [
      "66.089\n"
     ]
    }
   ],
   "source": [
    "mean_x = sum_x/n\n",
    "print(mean_x)"
   ]
  },
  {
   "cell_type": "code",
   "execution_count": 29,
   "id": "e8975489",
   "metadata": {},
   "outputs": [
    {
     "data": {
      "text/html": [
       "<div>\n",
       "<style scoped>\n",
       "    .dataframe tbody tr th:only-of-type {\n",
       "        vertical-align: middle;\n",
       "    }\n",
       "\n",
       "    .dataframe tbody tr th {\n",
       "        vertical-align: top;\n",
       "    }\n",
       "\n",
       "    .dataframe thead th {\n",
       "        text-align: right;\n",
       "    }\n",
       "</style>\n",
       "<table border=\"1\" class=\"dataframe\">\n",
       "  <thead>\n",
       "    <tr style=\"text-align: right;\">\n",
       "      <th></th>\n",
       "      <th>math score</th>\n",
       "      <th>reading score</th>\n",
       "      <th>writing score</th>\n",
       "    </tr>\n",
       "  </thead>\n",
       "  <tbody>\n",
       "    <tr>\n",
       "      <th>count</th>\n",
       "      <td>1000.00000</td>\n",
       "      <td>1000.000000</td>\n",
       "      <td>1000.000000</td>\n",
       "    </tr>\n",
       "    <tr>\n",
       "      <th>mean</th>\n",
       "      <td>66.08900</td>\n",
       "      <td>69.169000</td>\n",
       "      <td>68.054000</td>\n",
       "    </tr>\n",
       "    <tr>\n",
       "      <th>std</th>\n",
       "      <td>15.16308</td>\n",
       "      <td>14.600192</td>\n",
       "      <td>15.195657</td>\n",
       "    </tr>\n",
       "    <tr>\n",
       "      <th>min</th>\n",
       "      <td>0.00000</td>\n",
       "      <td>17.000000</td>\n",
       "      <td>10.000000</td>\n",
       "    </tr>\n",
       "    <tr>\n",
       "      <th>25%</th>\n",
       "      <td>57.00000</td>\n",
       "      <td>59.000000</td>\n",
       "      <td>57.750000</td>\n",
       "    </tr>\n",
       "    <tr>\n",
       "      <th>50%</th>\n",
       "      <td>66.00000</td>\n",
       "      <td>70.000000</td>\n",
       "      <td>69.000000</td>\n",
       "    </tr>\n",
       "    <tr>\n",
       "      <th>75%</th>\n",
       "      <td>77.00000</td>\n",
       "      <td>79.000000</td>\n",
       "      <td>79.000000</td>\n",
       "    </tr>\n",
       "    <tr>\n",
       "      <th>max</th>\n",
       "      <td>100.00000</td>\n",
       "      <td>100.000000</td>\n",
       "      <td>100.000000</td>\n",
       "    </tr>\n",
       "  </tbody>\n",
       "</table>\n",
       "</div>"
      ],
      "text/plain": [
       "       math score  reading score  writing score\n",
       "count  1000.00000    1000.000000    1000.000000\n",
       "mean     66.08900      69.169000      68.054000\n",
       "std      15.16308      14.600192      15.195657\n",
       "min       0.00000      17.000000      10.000000\n",
       "25%      57.00000      59.000000      57.750000\n",
       "50%      66.00000      70.000000      69.000000\n",
       "75%      77.00000      79.000000      79.000000\n",
       "max     100.00000     100.000000     100.000000"
      ]
     },
     "execution_count": 29,
     "metadata": {},
     "output_type": "execute_result"
    }
   ],
   "source": [
    "df.describe() # 표준편차 확인  (n-1)로 나눔"
   ]
  },
  {
   "cell_type": "code",
   "execution_count": 28,
   "id": "402d4b9a",
   "metadata": {},
   "outputs": [
    {
     "data": {
      "text/plain": [
       "15.155496659628165"
      ]
     },
     "execution_count": 28,
     "metadata": {},
     "output_type": "execute_result"
    }
   ],
   "source": [
    "np.std(df['math score']) #describe 함수와는 다른 표준편차값 (n으로 나눔)"
   ]
  },
  {
   "cell_type": "code",
   "execution_count": 31,
   "id": "2121bd2b",
   "metadata": {},
   "outputs": [],
   "source": [
    "# (n-1)로 나눔식\n",
    "n = len(df['math score'])\n",
    "ss_x = 0\n",
    "for x in df['math score']:\n",
    "    ss_x += (x-mean_x)**2"
   ]
  },
  {
   "cell_type": "code",
   "execution_count": 32,
   "id": "46194a2c",
   "metadata": {},
   "outputs": [],
   "source": [
    "var_x = ss_x/(n-1)"
   ]
  },
  {
   "cell_type": "code",
   "execution_count": 33,
   "id": "3949668c",
   "metadata": {},
   "outputs": [
    {
     "name": "stdout",
     "output_type": "stream",
     "text": [
      "15.163080096009468\n"
     ]
    }
   ],
   "source": [
    "std_x = var_x**0.5\n",
    "print(std_x)"
   ]
  },
  {
   "cell_type": "code",
   "execution_count": 34,
   "id": "bdd754d5",
   "metadata": {},
   "outputs": [],
   "source": [
    "#n으로 나눔 식\n",
    "var_x = ss_x/n"
   ]
  },
  {
   "cell_type": "code",
   "execution_count": 35,
   "id": "0ffdbf7d",
   "metadata": {},
   "outputs": [
    {
     "name": "stdout",
     "output_type": "stream",
     "text": [
      "15.155496659628165\n"
     ]
    }
   ],
   "source": [
    "std_x = var_x**0.5\n",
    "print(std_x)"
   ]
  },
  {
   "cell_type": "code",
   "execution_count": null,
   "id": "647bf8e0",
   "metadata": {},
   "outputs": [],
   "source": [
    "#이산형 균일 분포"
   ]
  },
  {
   "cell_type": "code",
   "execution_count": 42,
   "id": "afa66b1d",
   "metadata": {},
   "outputs": [],
   "source": [
    "x = np.random.randint(low = 1, high = 6, size = 10000)"
   ]
  },
  {
   "cell_type": "code",
   "execution_count": 40,
   "id": "5ffb689a",
   "metadata": {},
   "outputs": [
    {
     "data": {
      "text/plain": [
       "array([1, 3, 5, 4, 1, 3, 5, 2, 2, 4, 5, 1, 2, 2, 2, 2, 5, 3, 1, 3, 3, 2,\n",
       "       1, 3, 3, 2, 5, 2, 5, 1, 3, 2, 1, 5, 2, 1, 4, 2, 4, 3, 2, 5, 2, 3,\n",
       "       1, 3, 1, 4, 4, 3, 5, 1, 1, 2, 4, 5, 4, 2, 3, 5, 5, 2, 4, 2, 3, 4,\n",
       "       1, 5, 1, 2, 2, 2, 4, 3, 3, 3, 4, 5, 1, 3, 3, 1, 5, 4, 4, 5, 4, 1,\n",
       "       2, 4, 4, 1, 4, 4, 2, 4, 3, 2, 1, 5, 4, 1, 5, 4, 4, 4, 4, 1, 1, 5,\n",
       "       4, 3, 1, 5, 4, 1, 4, 2, 1, 2, 5, 4, 4, 3, 3, 5, 2, 1, 1, 3, 5, 5,\n",
       "       1, 5, 2, 3, 1, 2, 1, 1, 5, 2, 2, 5, 2, 5, 4, 4, 2, 5, 5, 2, 3, 2,\n",
       "       2, 3, 1, 4, 3, 3, 4, 5, 5, 1, 5, 5, 3, 2, 4, 2, 1, 4, 2, 3, 3, 1,\n",
       "       1, 4, 2, 4, 1, 2, 4, 4, 3, 3, 1, 5, 1, 1, 2, 2, 1, 3, 3, 4, 5, 2,\n",
       "       5, 2, 2, 2, 3, 1, 1, 3, 2, 2, 3, 1, 2, 4, 2, 4, 4, 2, 5, 5, 3, 1,\n",
       "       2, 3, 2, 2, 5, 5, 3, 1, 3, 5, 4, 5, 3, 2, 1, 2, 3, 2, 2, 5, 1, 5,\n",
       "       1, 3, 1, 4, 1, 3, 5, 2, 2, 5, 2, 2, 1, 3, 2, 4, 3, 3, 2, 2, 3, 5,\n",
       "       3, 1, 5, 4, 5, 5, 3, 3, 1, 1, 1, 5, 4, 3, 2, 5, 2, 5, 3, 1, 2, 2,\n",
       "       5, 2, 1, 2, 1, 3, 2, 3, 3, 3, 2, 5, 5, 5, 2, 2, 2, 2, 3, 1, 4, 2,\n",
       "       4, 4, 3, 3, 1, 3, 2, 2, 1, 2, 2, 1, 3, 3, 1, 5, 4, 3, 1, 3, 2, 4,\n",
       "       4, 3, 3, 2, 1, 2, 2, 1, 3, 2, 1, 4, 4, 5, 3, 1, 5, 4, 5, 5, 3, 2,\n",
       "       3, 4, 2, 3, 4, 5, 5, 3, 4, 1, 3, 1, 5, 3, 3, 3, 3, 5, 2, 4, 3, 3,\n",
       "       2, 1, 2, 3, 2, 3, 2, 2, 4, 3, 3, 3, 2, 5, 5, 5, 3, 5, 2, 1, 3, 5,\n",
       "       2, 4, 3, 4, 1, 3, 1, 5, 4, 5, 5, 2, 3, 3, 5, 1, 2, 5, 4, 3, 5, 3,\n",
       "       2, 2, 2, 3, 4, 1, 4, 4, 3, 1, 4, 4, 3, 1, 2, 3, 3, 1, 1, 3, 3, 4,\n",
       "       4, 4, 3, 2, 2, 5, 1, 3, 2, 5, 4, 2, 3, 2, 5, 1, 4, 3, 4, 2, 2, 5,\n",
       "       2, 1, 2, 5, 1, 1, 1, 4, 5, 2, 2, 1, 5, 3, 1, 3, 3, 5, 2, 1, 5, 3,\n",
       "       1, 5, 2, 5, 1, 3, 1, 3, 5, 5, 3, 2, 4, 1, 3, 4, 1, 3, 1, 5, 3, 4,\n",
       "       3, 5, 5, 5, 3, 3, 2, 2, 2, 3, 1, 4, 5, 1, 1, 1, 2, 1, 2, 5, 3, 4,\n",
       "       4, 4, 1, 2, 1, 1, 3, 2, 5, 4, 5, 1, 4, 1, 2, 1, 2, 3, 1, 5, 1, 1,\n",
       "       2, 3, 4, 4, 4, 1, 1, 1, 3, 5, 5, 3, 1, 2, 2, 5, 1, 2, 4, 5, 2, 4,\n",
       "       3, 4, 1, 5, 4, 2, 5, 4, 2, 5, 2, 1, 4, 5, 2, 2, 5, 5, 2, 3, 1, 5,\n",
       "       4, 4, 1, 3, 1, 5, 2, 1, 5, 1, 2, 2, 1, 4, 5, 4, 1, 2, 2, 4, 1, 1,\n",
       "       3, 2, 3, 1, 3, 2, 5, 4, 1, 3, 3, 3, 3, 5, 2, 3, 2, 3, 5, 5, 1, 4,\n",
       "       2, 3, 3, 4, 4, 1, 2, 3, 4, 2, 1, 2, 1, 2, 1, 3, 3, 4, 2, 2, 3, 4,\n",
       "       5, 3, 1, 2, 5, 1, 3, 3, 3, 1, 3, 1, 5, 2, 2, 5, 5, 4, 1, 2, 3, 5,\n",
       "       4, 4, 3, 2, 1, 4, 5, 4, 4, 2, 2, 4, 3, 5, 4, 4, 3, 2, 4, 5, 4, 3,\n",
       "       3, 2, 4, 5, 1, 3, 1, 2, 2, 4, 2, 4, 4, 4, 1, 5, 1, 1, 1, 2, 1, 4,\n",
       "       5, 3, 1, 3, 1, 1, 5, 4, 2, 2, 2, 5, 5, 2, 4, 1, 1, 4, 2, 1, 4, 2,\n",
       "       5, 4, 2, 1, 1, 1, 1, 5, 5, 5, 3, 1, 5, 1, 2, 3, 4, 4, 4, 1, 2, 2,\n",
       "       3, 2, 5, 3, 4, 5, 1, 4, 2, 2, 3, 4, 3, 4, 1, 2, 3, 4, 1, 4, 1, 5,\n",
       "       4, 5, 1, 3, 1, 3, 5, 1, 1, 4, 2, 3, 1, 4, 3, 3, 4, 1, 2, 2, 4, 1,\n",
       "       1, 2, 4, 5, 5, 3, 5, 3, 4, 2, 1, 5, 1, 5, 3, 2, 3, 1, 5, 5, 1, 1,\n",
       "       5, 2, 3, 2, 1, 5, 4, 5, 3, 4, 2, 3, 2, 2, 3, 1, 1, 1, 1, 3, 1, 4,\n",
       "       5, 4, 4, 1, 3, 4, 5, 1, 2, 5, 2, 1, 4, 5, 3, 5, 2, 3, 1, 4, 4, 2,\n",
       "       4, 5, 4, 2, 2, 3, 3, 5, 5, 3, 5, 5, 4, 2, 1, 3, 3, 2, 3, 5, 2, 5,\n",
       "       5, 1, 3, 2, 1, 5, 5, 4, 3, 1, 4, 5, 2, 2, 1, 3, 5, 5, 5, 1, 1, 3,\n",
       "       4, 4, 2, 1, 5, 1, 3, 3, 5, 3, 5, 4, 4, 4, 2, 2, 3, 5, 5, 5, 2, 2,\n",
       "       5, 2, 2, 4, 5, 2, 1, 2, 5, 5, 1, 3, 2, 4, 2, 1, 4, 2, 1, 4, 3, 4,\n",
       "       3, 5, 4, 2, 4, 5, 5, 4, 3, 1, 4, 3, 5, 4, 4, 5, 2, 4, 4, 1, 3, 3,\n",
       "       5, 2, 3, 3, 2, 3, 1, 1, 3, 4])"
      ]
     },
     "execution_count": 40,
     "metadata": {},
     "output_type": "execute_result"
    }
   ],
   "source": [
    "x"
   ]
  },
  {
   "cell_type": "code",
   "execution_count": 45,
   "id": "5504897d",
   "metadata": {},
   "outputs": [
    {
     "data": {
      "image/png": "[encoded data removed]",
      "text/plain": [
       "<Figure size 432x288 with 1 Axes>"
      ]
     },
     "metadata": {
      "needs_background": "light"
     },
     "output_type": "display_data"
    }
   ],
   "source": [
    "plt.hist(x, bins = 10)\n",
    "plt.show()"
   ]
  },
  {
   "cell_type": "code",
   "execution_count": null,
   "id": "03f47ea1",
   "metadata": {},
   "outputs": [],
   "source": [
    "#베르누이분포"
   ]
  },
  {
   "cell_type": "code",
   "execution_count": 55,
   "id": "29a96690",
   "metadata": {},
   "outputs": [],
   "source": [
    "x = np.random.binomial(n=1, p=1/3, size=10000)"
   ]
  },
  {
   "cell_type": "code",
   "execution_count": 47,
   "id": "15850716",
   "metadata": {},
   "outputs": [
    {
     "data": {
      "text/plain": [
       "array([1, 1, 0, 0, 1, 0, 1, 1, 0, 0, 0, 1, 0, 0, 1, 0, 1, 1, 1, 0, 0, 1,\n",
       "       0, 0, 1, 0, 1, 1, 1, 0, 0, 0, 0, 1, 0, 0, 0, 0, 0, 0, 0, 0, 0, 0,\n",
       "       1, 0, 1, 1, 0, 0, 0, 0, 0, 0, 0, 0, 1, 0, 1, 1, 0, 0, 0, 0, 0, 0,\n",
       "       0, 0, 0, 0, 0, 1, 1, 0, 0, 0, 0, 0, 0, 0, 0, 0, 0, 0, 1, 1, 1, 1,\n",
       "       0, 0, 0, 0, 0, 0, 1, 1, 1, 0, 1, 0])"
      ]
     },
     "execution_count": 47,
     "metadata": {},
     "output_type": "execute_result"
    }
   ],
   "source": [
    "x"
   ]
  },
  {
   "cell_type": "code",
   "execution_count": 56,
   "id": "444205d0",
   "metadata": {},
   "outputs": [
    {
     "data": {
      "image/png": "[encoded data removed]",
      "text/plain": [
       "<Figure size 432x288 with 1 Axes>"
      ]
     },
     "metadata": {
      "needs_background": "light"
     },
     "output_type": "display_data"
    }
   ],
   "source": [
    "plt.hist(x, bins=3)\n",
    "plt.show()"
   ]
  },
  {
   "cell_type": "code",
   "execution_count": null,
   "id": "2c1a145d",
   "metadata": {},
   "outputs": [],
   "source": [
    "#이항분포"
   ]
  },
  {
   "cell_type": "code",
   "execution_count": 62,
   "id": "bc760d7e",
   "metadata": {},
   "outputs": [],
   "source": [
    "x = np.random.binomial(n=10, p=1/3, size=10000)"
   ]
  },
  {
   "cell_type": "code",
   "execution_count": 58,
   "id": "b62910cd",
   "metadata": {},
   "outputs": [
    {
     "data": {
      "text/plain": [
       "array([6, 5, 3, 6, 4, 4, 5, 4, 0, 3, 2, 5, 3, 1, 4, 1, 3, 6, 3, 5, 4, 3,\n",
       "       2, 2, 3, 4, 4, 5, 4, 5, 1, 3, 2, 3, 3, 1, 3, 5, 1, 1, 3, 4, 4, 4,\n",
       "       6, 2, 5, 6, 3, 4, 4, 5, 3, 6, 4, 3, 4, 5, 1, 2, 2, 1, 5, 2, 6, 4,\n",
       "       2, 3, 2, 2, 6, 5, 1, 5, 3, 4, 2, 3, 4, 3, 3, 2, 1, 5, 3, 5, 4, 2,\n",
       "       4, 3, 1, 5, 5, 5, 4, 3, 2, 2, 1, 4])"
      ]
     },
     "execution_count": 58,
     "metadata": {},
     "output_type": "execute_result"
    }
   ],
   "source": [
    "x"
   ]
  },
  {
   "cell_type": "code",
   "execution_count": 63,
   "id": "a33748d7",
   "metadata": {},
   "outputs": [
    {
     "data": {
      "image/png": "[encoded data removed]",
      "text/plain": [
       "<Figure size 432x288 with 1 Axes>"
      ]
     },
     "metadata": {
      "needs_background": "light"
     },
     "output_type": "display_data"
    }
   ],
   "source": [
    "plt.hist(x, bins = 30)\n",
    "plt.show()"
   ]
  },
  {
   "cell_type": "code",
   "execution_count": 65,
   "id": "560b776a",
   "metadata": {},
   "outputs": [],
   "source": [
    "x2 = np.random.binomial(n=10, p=1/3, size = 10000)"
   ]
  },
  {
   "cell_type": "code",
   "execution_count": 77,
   "id": "cace5cd2",
   "metadata": {},
   "outputs": [
    {
     "data": {
      "image/png": "[encoded data removed]",
      "text/plain": [
       "<Figure size 432x288 with 1 Axes>"
      ]
     },
     "metadata": {
      "needs_background": "light"
     },
     "output_type": "display_data"
    }
   ],
   "source": [
    "plt.hist(x2, bins=30)\n",
    "plt.show()"
   ]
  },
  {
   "cell_type": "code",
   "execution_count": null,
   "id": "054c73ba",
   "metadata": {},
   "outputs": [],
   "source": [
    "#포아송분포"
   ]
  },
  {
   "cell_type": "code",
   "execution_count": 78,
   "id": "6d98da7c",
   "metadata": {},
   "outputs": [],
   "source": [
    "x = np.random.poisson(lam=2, size=100)"
   ]
  },
  {
   "cell_type": "code",
   "execution_count": 79,
   "id": "c657d6f4",
   "metadata": {},
   "outputs": [
    {
     "data": {
      "text/plain": [
       "array([2, 1, 2, 2, 1, 2, 0, 3, 0, 3, 3, 4, 0, 1, 4, 2, 0, 1, 4, 2, 1, 2,\n",
       "       0, 5, 1, 1, 1, 0, 1, 2, 1, 3, 5, 2, 1, 2, 3, 4, 1, 1, 4, 1, 2, 1,\n",
       "       1, 1, 1, 7, 1, 2, 2, 2, 0, 1, 4, 2, 1, 0, 0, 4, 3, 5, 1, 1, 2, 3,\n",
       "       1, 0, 0, 1, 3, 3, 4, 2, 2, 5, 1, 1, 1, 2, 3, 1, 1, 3, 2, 2, 2, 1,\n",
       "       1, 1, 2, 4, 2, 3, 1, 1, 7, 1, 4, 1])"
      ]
     },
     "execution_count": 79,
     "metadata": {},
     "output_type": "execute_result"
    }
   ],
   "source": [
    "x"
   ]
  },
  {
   "cell_type": "code",
   "execution_count": 80,
   "id": "331ced5d",
   "metadata": {},
   "outputs": [
    {
     "data": {
      "image/png": "[encoded data removed]",
      "text/plain": [
       "<Figure size 432x288 with 1 Axes>"
      ]
     },
     "metadata": {
      "needs_background": "light"
     },
     "output_type": "display_data"
    }
   ],
   "source": [
    "plt.hist(x, bins=30)\n",
    "plt.show()"
   ]
  },
  {
   "cell_type": "code",
   "execution_count": 81,
   "id": "3614123d",
   "metadata": {},
   "outputs": [],
   "source": [
    "x = np.random.poisson(lam=2, size=10000)"
   ]
  },
  {
   "cell_type": "code",
   "execution_count": 82,
   "id": "8110191d",
   "metadata": {},
   "outputs": [
    {
     "data": {
      "text/plain": [
       "array([0, 2, 0, ..., 3, 2, 2])"
      ]
     },
     "execution_count": 82,
     "metadata": {},
     "output_type": "execute_result"
    }
   ],
   "source": [
    "x"
   ]
  },
  {
   "cell_type": "code",
   "execution_count": 83,
   "id": "eee96486",
   "metadata": {},
   "outputs": [
    {
     "data": {
      "image/png": "[encoded data removed]",
      "text/plain": [
       "<Figure size 432x288 with 1 Axes>"
      ]
     },
     "metadata": {
      "needs_background": "light"
     },
     "output_type": "display_data"
    }
   ],
   "source": [
    "plt.hist(x, bins=30)\n",
    "plt.show()"
   ]
  },
  {
   "cell_type": "code",
   "execution_count": null,
   "id": "65722e0a",
   "metadata": {},
   "outputs": [],
   "source": [
    "#기하분포"
   ]
  },
  {
   "cell_type": "code",
   "execution_count": 84,
   "id": "a56087c2",
   "metadata": {},
   "outputs": [],
   "source": [
    "x = np.random.geometric(p=1/3, size=100)"
   ]
  },
  {
   "cell_type": "code",
   "execution_count": 85,
   "id": "87e12c21",
   "metadata": {},
   "outputs": [
    {
     "data": {
      "text/plain": [
       "array([ 1,  1,  8,  2,  2,  1,  2,  1,  1,  1,  2,  1,  2,  7,  1,  3,  3,\n",
       "        3,  1,  2,  6,  4,  1,  1,  2,  4,  7,  3,  4,  1,  1,  2, 11,  3,\n",
       "        4,  1,  2,  9,  1,  5,  6,  2,  1, 14,  2,  2,  2,  4,  1,  3,  3,\n",
       "        4,  3,  1,  2,  2,  1,  7, 10,  8,  3,  2,  3,  3,  2,  2,  2,  1,\n",
       "        1,  1,  1,  1,  3,  1,  9,  2,  2,  2,  1,  3,  5,  2,  2,  3,  2,\n",
       "        1,  2,  2,  1,  3,  5,  5,  3,  4,  3,  2,  2,  6,  4,  3])"
      ]
     },
     "execution_count": 85,
     "metadata": {},
     "output_type": "execute_result"
    }
   ],
   "source": [
    "x"
   ]
  },
  {
   "cell_type": "code",
   "execution_count": 86,
   "id": "97d3f83c",
   "metadata": {},
   "outputs": [
    {
     "data": {
      "image/png": "[encoded data removed]",
      "text/plain": [
       "<Figure size 432x288 with 1 Axes>"
      ]
     },
     "metadata": {
      "needs_background": "light"
     },
     "output_type": "display_data"
    }
   ],
   "source": [
    "plt.hist(x, bins=30)\n",
    "plt.show()"
   ]
  },
  {
   "cell_type": "code",
   "execution_count": 87,
   "id": "af993249",
   "metadata": {},
   "outputs": [],
   "source": [
    "x = np.random.geometric(p=1/3, size=10000)"
   ]
  },
  {
   "cell_type": "code",
   "execution_count": 88,
   "id": "7d053b9a",
   "metadata": {},
   "outputs": [
    {
     "data": {
      "image/png": "[encoded data removed]",
      "text/plain": [
       "<Figure size 432x288 with 1 Axes>"
      ]
     },
     "metadata": {
      "needs_background": "light"
     },
     "output_type": "display_data"
    }
   ],
   "source": [
    "plt.hist(x, bins=30)\n",
    "plt.show()"
   ]
  },
  {
   "cell_type": "code",
   "execution_count": null,
   "id": "ef19e790",
   "metadata": {},
   "outputs": [],
   "source": [
    "#연속형 균일분포"
   ]
  },
  {
   "cell_type": "code",
   "execution_count": 89,
   "id": "b74d4e37",
   "metadata": {},
   "outputs": [],
   "source": [
    "x = np.random.uniform(low=1, high=6, size=100)"
   ]
  },
  {
   "cell_type": "code",
   "execution_count": 90,
   "id": "c3846f6d",
   "metadata": {},
   "outputs": [
    {
     "data": {
      "text/plain": [
       "array([5.19402555, 2.215683  , 3.6440769 , 1.74189525, 5.16680647,\n",
       "       4.30242267, 4.17601355, 4.34331579, 2.98055962, 1.48918242,\n",
       "       4.99177405, 4.3701998 , 4.23034511, 3.52590242, 2.17135685,\n",
       "       1.99262343, 1.87964863, 3.5402287 , 2.74724892, 3.3162242 ,\n",
       "       2.04594897, 2.56682419, 4.7453838 , 4.02118291, 4.48817004,\n",
       "       4.48711583, 3.03890001, 3.08263735, 5.36796007, 5.97595128,\n",
       "       2.47648474, 5.66263154, 3.81876401, 1.1062692 , 3.55553329,\n",
       "       5.54740791, 4.1311768 , 1.48948291, 1.74674053, 3.58044282,\n",
       "       2.57193476, 3.52308988, 3.01344513, 5.19021742, 2.26069899,\n",
       "       3.54482261, 4.5726712 , 5.69619709, 4.34941299, 3.643576  ,\n",
       "       2.73994765, 2.80324661, 4.18800168, 3.00266207, 3.33221956,\n",
       "       3.07868821, 4.71992828, 1.42791102, 4.91047717, 5.11285167,\n",
       "       3.78497877, 4.94584885, 4.36859338, 3.55933573, 4.26361331,\n",
       "       5.89069124, 1.7548915 , 1.38492167, 2.35407885, 1.94885307,\n",
       "       3.34405605, 5.52960293, 5.28485586, 4.98448045, 1.58728962,\n",
       "       3.7894284 , 5.30161117, 3.66298608, 3.53116431, 2.33551249,\n",
       "       3.97037347, 4.88903025, 3.9024239 , 5.08501827, 4.49633367,\n",
       "       2.91290869, 1.3784292 , 1.20423971, 1.10390407, 1.46667986,\n",
       "       3.81435948, 3.32681519, 2.57267728, 1.79986345, 3.32555548,\n",
       "       3.32342323, 4.78028317, 3.18572539, 4.13630216, 1.7183322 ])"
      ]
     },
     "execution_count": 90,
     "metadata": {},
     "output_type": "execute_result"
    }
   ],
   "source": [
    "x"
   ]
  },
  {
   "cell_type": "code",
   "execution_count": 91,
   "id": "6a530942",
   "metadata": {},
   "outputs": [
    {
     "data": {
      "image/png": "[encoded data removed]",
      "text/plain": [
       "<Figure size 432x288 with 1 Axes>"
      ]
     },
     "metadata": {
      "needs_background": "light"
     },
     "output_type": "display_data"
    }
   ],
   "source": [
    "plt.hist(x, bins=30)\n",
    "plt.show()"
   ]
  },
  {
   "cell_type": "code",
   "execution_count": 92,
   "id": "6cc6e242",
   "metadata": {},
   "outputs": [],
   "source": [
    "#정규분포"
   ]
  },
  {
   "cell_type": "code",
   "execution_count": 93,
   "id": "f4f243b9",
   "metadata": {},
   "outputs": [],
   "source": [
    "x = np.random.normal(loc=60, scale=6, size=100)"
   ]
  },
  {
   "cell_type": "code",
   "execution_count": 94,
   "id": "9eea6c2b",
   "metadata": {},
   "outputs": [
    {
     "data": {
      "text/plain": [
       "array([53.31966964, 66.95810769, 53.78746474, 64.68128703, 53.07776239,\n",
       "       64.10383524, 65.23390255, 65.05612064, 52.20641278, 56.85610155,\n",
       "       54.54704155, 52.43253789, 50.92335178, 56.98032221, 48.81353745,\n",
       "       64.60920737, 57.75515475, 55.76595163, 58.43082572, 47.43244357,\n",
       "       70.82237717, 59.51550386, 64.05415457, 54.12446062, 60.72710785,\n",
       "       58.45822359, 59.95635098, 63.91097279, 63.36833513, 66.22054877,\n",
       "       62.50257438, 56.59038634, 62.95131834, 60.02193655, 50.13472398,\n",
       "       55.40742875, 61.14040251, 62.62902445, 54.25414012, 80.1017153 ,\n",
       "       62.60219049, 73.95778755, 56.32277237, 64.12332176, 60.00468271,\n",
       "       70.37358734, 59.51392873, 58.66625366, 54.9450263 , 54.8142592 ,\n",
       "       59.42929159, 62.09454262, 53.04501821, 59.57172532, 56.47548131,\n",
       "       57.91243328, 52.10331431, 48.42797631, 59.22204157, 62.37019185,\n",
       "       67.70977333, 64.63346743, 55.72068629, 55.15947228, 58.00482686,\n",
       "       57.59874591, 47.69124846, 63.83288573, 64.77750771, 57.51665795,\n",
       "       69.33976973, 61.46243471, 66.8584451 , 57.59539321, 60.1898529 ,\n",
       "       54.97779573, 69.29698094, 61.29388056, 60.57786466, 65.83208682,\n",
       "       69.47089715, 59.4251354 , 61.89655603, 57.34737915, 55.5846904 ,\n",
       "       60.01908896, 43.93764484, 64.20311158, 47.26892429, 56.04314933,\n",
       "       65.94536741, 60.16238035, 51.85880481, 51.86682495, 54.26131141,\n",
       "       62.29758285, 57.55807403, 55.28114098, 54.17991548, 57.50171031])"
      ]
     },
     "execution_count": 94,
     "metadata": {},
     "output_type": "execute_result"
    }
   ],
   "source": [
    "x"
   ]
  },
  {
   "cell_type": "code",
   "execution_count": 95,
   "id": "9b279661",
   "metadata": {},
   "outputs": [
    {
     "data": {
      "image/png": "[encoded data removed]",
      "text/plain": [
       "<Figure size 432x288 with 1 Axes>"
      ]
     },
     "metadata": {
      "needs_background": "light"
     },
     "output_type": "display_data"
    }
   ],
   "source": [
    "plt.hist(x, bins=30)\n",
    "plt.show()"
   ]
  },
  {
   "cell_type": "code",
   "execution_count": 96,
   "id": "432967c1",
   "metadata": {},
   "outputs": [],
   "source": [
    "x = np.random.normal(loc=60, scale=6, size=10000)"
   ]
  },
  {
   "cell_type": "code",
   "execution_count": 97,
   "id": "9db795b8",
   "metadata": {},
   "outputs": [
    {
     "data": {
      "image/png": "[encoded data removed]",
      "text/plain": [
       "<Figure size 432x288 with 1 Axes>"
      ]
     },
     "metadata": {
      "needs_background": "light"
     },
     "output_type": "display_data"
    }
   ],
   "source": [
    "plt.hist(x, bins=30)\n",
    "plt.show()"
   ]
  },
  {
   "cell_type": "code",
   "execution_count": null,
   "id": "badadb34",
   "metadata": {},
   "outputs": [],
   "source": []
  }
 ],
 "metadata": {
  "kernelspec": {
   "display_name": "Python 3 (ipykernel)",
   "language": "python",
   "name": "python3"
  },
  "language_info": {
   "codemirror_mode": {
    "name": "ipython",
    "version": 3
   },
   "file_extension": ".py",
   "mimetype": "text/x-python",
   "name": "python",
   "nbconvert_exporter": "python",
   "pygments_lexer": "ipython3",
   "version": "3.9.12"
  }
 },
 "nbformat": 4,
 "nbformat_minor": 5
}
