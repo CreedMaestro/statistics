{
 "cells": [
  {
   "cell_type": "code",
   "execution_count": 1,
   "id": "4f5ed406",
   "metadata": {},
   "outputs": [],
   "source": [
    "import pandas as pd\n",
    "import numpy as np\n",
    "import scipy as sp"
   ]
  },
  {
   "cell_type": "code",
   "execution_count": 3,
   "id": "82d88363",
   "metadata": {},
   "outputs": [],
   "source": [
    "df = pd.read_csv(r'C:\\Users\\Creed\\Documents\\GitHub\\Mathematical-statistics\\수리통계\\code\\data\\WineQT.csv')"
   ]
  },
  {
   "cell_type": "code",
   "execution_count": 4,
   "id": "a0c55a8e",
   "metadata": {},
   "outputs": [
    {
     "data": {
      "text/html": [
       "<div>\n",
       "<style scoped>\n",
       "    .dataframe tbody tr th:only-of-type {\n",
       "        vertical-align: middle;\n",
       "    }\n",
       "\n",
       "    .dataframe tbody tr th {\n",
       "        vertical-align: top;\n",
       "    }\n",
       "\n",
       "    .dataframe thead th {\n",
       "        text-align: right;\n",
       "    }\n",
       "</style>\n",
       "<table border=\"1\" class=\"dataframe\">\n",
       "  <thead>\n",
       "    <tr style=\"text-align: right;\">\n",
       "      <th></th>\n",
       "      <th>fixed acidity</th>\n",
       "      <th>volatile acidity</th>\n",
       "      <th>citric acid</th>\n",
       "      <th>residual sugar</th>\n",
       "      <th>chlorides</th>\n",
       "      <th>free sulfur dioxide</th>\n",
       "      <th>total sulfur dioxide</th>\n",
       "      <th>density</th>\n",
       "      <th>pH</th>\n",
       "      <th>sulphates</th>\n",
       "      <th>alcohol</th>\n",
       "      <th>quality</th>\n",
       "      <th>Id</th>\n",
       "    </tr>\n",
       "  </thead>\n",
       "  <tbody>\n",
       "    <tr>\n",
       "      <th>0</th>\n",
       "      <td>7.4</td>\n",
       "      <td>0.700</td>\n",
       "      <td>0.00</td>\n",
       "      <td>1.9</td>\n",
       "      <td>0.076</td>\n",
       "      <td>11.0</td>\n",
       "      <td>34.0</td>\n",
       "      <td>0.99780</td>\n",
       "      <td>3.51</td>\n",
       "      <td>0.56</td>\n",
       "      <td>9.4</td>\n",
       "      <td>5</td>\n",
       "      <td>0</td>\n",
       "    </tr>\n",
       "    <tr>\n",
       "      <th>1</th>\n",
       "      <td>7.8</td>\n",
       "      <td>0.880</td>\n",
       "      <td>0.00</td>\n",
       "      <td>2.6</td>\n",
       "      <td>0.098</td>\n",
       "      <td>25.0</td>\n",
       "      <td>67.0</td>\n",
       "      <td>0.99680</td>\n",
       "      <td>3.20</td>\n",
       "      <td>0.68</td>\n",
       "      <td>9.8</td>\n",
       "      <td>5</td>\n",
       "      <td>1</td>\n",
       "    </tr>\n",
       "    <tr>\n",
       "      <th>2</th>\n",
       "      <td>7.8</td>\n",
       "      <td>0.760</td>\n",
       "      <td>0.04</td>\n",
       "      <td>2.3</td>\n",
       "      <td>0.092</td>\n",
       "      <td>15.0</td>\n",
       "      <td>54.0</td>\n",
       "      <td>0.99700</td>\n",
       "      <td>3.26</td>\n",
       "      <td>0.65</td>\n",
       "      <td>9.8</td>\n",
       "      <td>5</td>\n",
       "      <td>2</td>\n",
       "    </tr>\n",
       "    <tr>\n",
       "      <th>3</th>\n",
       "      <td>11.2</td>\n",
       "      <td>0.280</td>\n",
       "      <td>0.56</td>\n",
       "      <td>1.9</td>\n",
       "      <td>0.075</td>\n",
       "      <td>17.0</td>\n",
       "      <td>60.0</td>\n",
       "      <td>0.99800</td>\n",
       "      <td>3.16</td>\n",
       "      <td>0.58</td>\n",
       "      <td>9.8</td>\n",
       "      <td>6</td>\n",
       "      <td>3</td>\n",
       "    </tr>\n",
       "    <tr>\n",
       "      <th>4</th>\n",
       "      <td>7.4</td>\n",
       "      <td>0.700</td>\n",
       "      <td>0.00</td>\n",
       "      <td>1.9</td>\n",
       "      <td>0.076</td>\n",
       "      <td>11.0</td>\n",
       "      <td>34.0</td>\n",
       "      <td>0.99780</td>\n",
       "      <td>3.51</td>\n",
       "      <td>0.56</td>\n",
       "      <td>9.4</td>\n",
       "      <td>5</td>\n",
       "      <td>4</td>\n",
       "    </tr>\n",
       "    <tr>\n",
       "      <th>...</th>\n",
       "      <td>...</td>\n",
       "      <td>...</td>\n",
       "      <td>...</td>\n",
       "      <td>...</td>\n",
       "      <td>...</td>\n",
       "      <td>...</td>\n",
       "      <td>...</td>\n",
       "      <td>...</td>\n",
       "      <td>...</td>\n",
       "      <td>...</td>\n",
       "      <td>...</td>\n",
       "      <td>...</td>\n",
       "      <td>...</td>\n",
       "    </tr>\n",
       "    <tr>\n",
       "      <th>1138</th>\n",
       "      <td>6.3</td>\n",
       "      <td>0.510</td>\n",
       "      <td>0.13</td>\n",
       "      <td>2.3</td>\n",
       "      <td>0.076</td>\n",
       "      <td>29.0</td>\n",
       "      <td>40.0</td>\n",
       "      <td>0.99574</td>\n",
       "      <td>3.42</td>\n",
       "      <td>0.75</td>\n",
       "      <td>11.0</td>\n",
       "      <td>6</td>\n",
       "      <td>1592</td>\n",
       "    </tr>\n",
       "    <tr>\n",
       "      <th>1139</th>\n",
       "      <td>6.8</td>\n",
       "      <td>0.620</td>\n",
       "      <td>0.08</td>\n",
       "      <td>1.9</td>\n",
       "      <td>0.068</td>\n",
       "      <td>28.0</td>\n",
       "      <td>38.0</td>\n",
       "      <td>0.99651</td>\n",
       "      <td>3.42</td>\n",
       "      <td>0.82</td>\n",
       "      <td>9.5</td>\n",
       "      <td>6</td>\n",
       "      <td>1593</td>\n",
       "    </tr>\n",
       "    <tr>\n",
       "      <th>1140</th>\n",
       "      <td>6.2</td>\n",
       "      <td>0.600</td>\n",
       "      <td>0.08</td>\n",
       "      <td>2.0</td>\n",
       "      <td>0.090</td>\n",
       "      <td>32.0</td>\n",
       "      <td>44.0</td>\n",
       "      <td>0.99490</td>\n",
       "      <td>3.45</td>\n",
       "      <td>0.58</td>\n",
       "      <td>10.5</td>\n",
       "      <td>5</td>\n",
       "      <td>1594</td>\n",
       "    </tr>\n",
       "    <tr>\n",
       "      <th>1141</th>\n",
       "      <td>5.9</td>\n",
       "      <td>0.550</td>\n",
       "      <td>0.10</td>\n",
       "      <td>2.2</td>\n",
       "      <td>0.062</td>\n",
       "      <td>39.0</td>\n",
       "      <td>51.0</td>\n",
       "      <td>0.99512</td>\n",
       "      <td>3.52</td>\n",
       "      <td>0.76</td>\n",
       "      <td>11.2</td>\n",
       "      <td>6</td>\n",
       "      <td>1595</td>\n",
       "    </tr>\n",
       "    <tr>\n",
       "      <th>1142</th>\n",
       "      <td>5.9</td>\n",
       "      <td>0.645</td>\n",
       "      <td>0.12</td>\n",
       "      <td>2.0</td>\n",
       "      <td>0.075</td>\n",
       "      <td>32.0</td>\n",
       "      <td>44.0</td>\n",
       "      <td>0.99547</td>\n",
       "      <td>3.57</td>\n",
       "      <td>0.71</td>\n",
       "      <td>10.2</td>\n",
       "      <td>5</td>\n",
       "      <td>1597</td>\n",
       "    </tr>\n",
       "  </tbody>\n",
       "</table>\n",
       "<p>1143 rows × 13 columns</p>\n",
       "</div>"
      ],
      "text/plain": [
       "      fixed acidity  volatile acidity  citric acid  residual sugar  chlorides  \\\n",
       "0               7.4             0.700         0.00             1.9      0.076   \n",
       "1               7.8             0.880         0.00             2.6      0.098   \n",
       "2               7.8             0.760         0.04             2.3      0.092   \n",
       "3              11.2             0.280         0.56             1.9      0.075   \n",
       "4               7.4             0.700         0.00             1.9      0.076   \n",
       "...             ...               ...          ...             ...        ...   \n",
       "1138            6.3             0.510         0.13             2.3      0.076   \n",
       "1139            6.8             0.620         0.08             1.9      0.068   \n",
       "1140            6.2             0.600         0.08             2.0      0.090   \n",
       "1141            5.9             0.550         0.10             2.2      0.062   \n",
       "1142            5.9             0.645         0.12             2.0      0.075   \n",
       "\n",
       "      free sulfur dioxide  total sulfur dioxide  density    pH  sulphates  \\\n",
       "0                    11.0                  34.0  0.99780  3.51       0.56   \n",
       "1                    25.0                  67.0  0.99680  3.20       0.68   \n",
       "2                    15.0                  54.0  0.99700  3.26       0.65   \n",
       "3                    17.0                  60.0  0.99800  3.16       0.58   \n",
       "4                    11.0                  34.0  0.99780  3.51       0.56   \n",
       "...                   ...                   ...      ...   ...        ...   \n",
       "1138                 29.0                  40.0  0.99574  3.42       0.75   \n",
       "1139                 28.0                  38.0  0.99651  3.42       0.82   \n",
       "1140                 32.0                  44.0  0.99490  3.45       0.58   \n",
       "1141                 39.0                  51.0  0.99512  3.52       0.76   \n",
       "1142                 32.0                  44.0  0.99547  3.57       0.71   \n",
       "\n",
       "      alcohol  quality    Id  \n",
       "0         9.4        5     0  \n",
       "1         9.8        5     1  \n",
       "2         9.8        5     2  \n",
       "3         9.8        6     3  \n",
       "4         9.4        5     4  \n",
       "...       ...      ...   ...  \n",
       "1138     11.0        6  1592  \n",
       "1139      9.5        6  1593  \n",
       "1140     10.5        5  1594  \n",
       "1141     11.2        6  1595  \n",
       "1142     10.2        5  1597  \n",
       "\n",
       "[1143 rows x 13 columns]"
      ]
     },
     "execution_count": 4,
     "metadata": {},
     "output_type": "execute_result"
    }
   ],
   "source": [
    "df"
   ]
  },
  {
   "cell_type": "code",
   "execution_count": 5,
   "id": "13853438",
   "metadata": {},
   "outputs": [],
   "source": [
    "density = df['density']\n",
    "pH = df['pH']"
   ]
  },
  {
   "cell_type": "code",
   "execution_count": 6,
   "id": "dc008db1",
   "metadata": {},
   "outputs": [
    {
     "name": "stdout",
     "output_type": "stream",
     "text": [
      "3771.9947732\n"
     ]
    }
   ],
   "source": [
    "res = np.inner(density, pH)\n",
    "print(res)"
   ]
  },
  {
   "cell_type": "code",
   "execution_count": 5,
   "id": "7c8696d8",
   "metadata": {},
   "outputs": [],
   "source": [
    "df = pd.read_csv(r'C:\\Users\\Creed\\Documents\\GitHub\\Mathematical-statistics\\수리통계\\code\\data\\star_classification.csv')"
   ]
  },
  {
   "cell_type": "code",
   "execution_count": 6,
   "id": "25604e2b",
   "metadata": {},
   "outputs": [
    {
     "data": {
      "text/html": [
       "<div>\n",
       "<style scoped>\n",
       "    .dataframe tbody tr th:only-of-type {\n",
       "        vertical-align: middle;\n",
       "    }\n",
       "\n",
       "    .dataframe tbody tr th {\n",
       "        vertical-align: top;\n",
       "    }\n",
       "\n",
       "    .dataframe thead th {\n",
       "        text-align: right;\n",
       "    }\n",
       "</style>\n",
       "<table border=\"1\" class=\"dataframe\">\n",
       "  <thead>\n",
       "    <tr style=\"text-align: right;\">\n",
       "      <th></th>\n",
       "      <th>Unnamed: 0</th>\n",
       "      <th>obj_ID</th>\n",
       "      <th>alpha</th>\n",
       "      <th>delta</th>\n",
       "      <th>u</th>\n",
       "      <th>g</th>\n",
       "      <th>r</th>\n",
       "      <th>i</th>\n",
       "      <th>z</th>\n",
       "      <th>run_ID</th>\n",
       "      <th>rerun_ID</th>\n",
       "      <th>cam_col</th>\n",
       "      <th>field_ID</th>\n",
       "      <th>spec_obj_ID</th>\n",
       "      <th>class</th>\n",
       "      <th>redshift</th>\n",
       "      <th>plate</th>\n",
       "      <th>MJD</th>\n",
       "      <th>fiber_ID</th>\n",
       "    </tr>\n",
       "  </thead>\n",
       "  <tbody>\n",
       "    <tr>\n",
       "      <th>0</th>\n",
       "      <td>0</td>\n",
       "      <td>1.237661e+18</td>\n",
       "      <td>135.689107</td>\n",
       "      <td>32.494632</td>\n",
       "      <td>23.87882</td>\n",
       "      <td>22.27530</td>\n",
       "      <td>20.39501</td>\n",
       "      <td>19.16573</td>\n",
       "      <td>18.79371</td>\n",
       "      <td>3606</td>\n",
       "      <td>301</td>\n",
       "      <td>2</td>\n",
       "      <td>79</td>\n",
       "      <td>6.543777e+18</td>\n",
       "      <td>0</td>\n",
       "      <td>0.634794</td>\n",
       "      <td>5812</td>\n",
       "      <td>56354</td>\n",
       "      <td>171</td>\n",
       "    </tr>\n",
       "    <tr>\n",
       "      <th>1</th>\n",
       "      <td>1</td>\n",
       "      <td>1.237665e+18</td>\n",
       "      <td>144.826101</td>\n",
       "      <td>31.274185</td>\n",
       "      <td>24.77759</td>\n",
       "      <td>22.83188</td>\n",
       "      <td>22.58444</td>\n",
       "      <td>21.16812</td>\n",
       "      <td>21.61427</td>\n",
       "      <td>4518</td>\n",
       "      <td>301</td>\n",
       "      <td>5</td>\n",
       "      <td>119</td>\n",
       "      <td>1.176014e+19</td>\n",
       "      <td>0</td>\n",
       "      <td>0.779136</td>\n",
       "      <td>10445</td>\n",
       "      <td>58158</td>\n",
       "      <td>427</td>\n",
       "    </tr>\n",
       "    <tr>\n",
       "      <th>2</th>\n",
       "      <td>2</td>\n",
       "      <td>1.237661e+18</td>\n",
       "      <td>142.188790</td>\n",
       "      <td>35.582444</td>\n",
       "      <td>25.26307</td>\n",
       "      <td>22.66389</td>\n",
       "      <td>20.60976</td>\n",
       "      <td>19.34857</td>\n",
       "      <td>18.94827</td>\n",
       "      <td>3606</td>\n",
       "      <td>301</td>\n",
       "      <td>2</td>\n",
       "      <td>120</td>\n",
       "      <td>5.152200e+18</td>\n",
       "      <td>0</td>\n",
       "      <td>0.644195</td>\n",
       "      <td>4576</td>\n",
       "      <td>55592</td>\n",
       "      <td>299</td>\n",
       "    </tr>\n",
       "    <tr>\n",
       "      <th>3</th>\n",
       "      <td>3</td>\n",
       "      <td>1.237663e+18</td>\n",
       "      <td>338.741038</td>\n",
       "      <td>-0.402828</td>\n",
       "      <td>22.13682</td>\n",
       "      <td>23.77656</td>\n",
       "      <td>21.61162</td>\n",
       "      <td>20.50454</td>\n",
       "      <td>19.25010</td>\n",
       "      <td>4192</td>\n",
       "      <td>301</td>\n",
       "      <td>3</td>\n",
       "      <td>214</td>\n",
       "      <td>1.030107e+19</td>\n",
       "      <td>0</td>\n",
       "      <td>0.932346</td>\n",
       "      <td>9149</td>\n",
       "      <td>58039</td>\n",
       "      <td>775</td>\n",
       "    </tr>\n",
       "    <tr>\n",
       "      <th>4</th>\n",
       "      <td>4</td>\n",
       "      <td>1.237680e+18</td>\n",
       "      <td>345.282593</td>\n",
       "      <td>21.183866</td>\n",
       "      <td>19.43718</td>\n",
       "      <td>17.58028</td>\n",
       "      <td>16.49747</td>\n",
       "      <td>15.97711</td>\n",
       "      <td>15.54461</td>\n",
       "      <td>8102</td>\n",
       "      <td>301</td>\n",
       "      <td>3</td>\n",
       "      <td>137</td>\n",
       "      <td>6.891865e+18</td>\n",
       "      <td>0</td>\n",
       "      <td>0.116123</td>\n",
       "      <td>6121</td>\n",
       "      <td>56187</td>\n",
       "      <td>842</td>\n",
       "    </tr>\n",
       "    <tr>\n",
       "      <th>...</th>\n",
       "      <td>...</td>\n",
       "      <td>...</td>\n",
       "      <td>...</td>\n",
       "      <td>...</td>\n",
       "      <td>...</td>\n",
       "      <td>...</td>\n",
       "      <td>...</td>\n",
       "      <td>...</td>\n",
       "      <td>...</td>\n",
       "      <td>...</td>\n",
       "      <td>...</td>\n",
       "      <td>...</td>\n",
       "      <td>...</td>\n",
       "      <td>...</td>\n",
       "      <td>...</td>\n",
       "      <td>...</td>\n",
       "      <td>...</td>\n",
       "      <td>...</td>\n",
       "      <td>...</td>\n",
       "    </tr>\n",
       "    <tr>\n",
       "      <th>99995</th>\n",
       "      <td>99995</td>\n",
       "      <td>1.237679e+18</td>\n",
       "      <td>39.620709</td>\n",
       "      <td>-2.594074</td>\n",
       "      <td>22.16759</td>\n",
       "      <td>22.97586</td>\n",
       "      <td>21.90404</td>\n",
       "      <td>21.30548</td>\n",
       "      <td>20.73569</td>\n",
       "      <td>7778</td>\n",
       "      <td>301</td>\n",
       "      <td>2</td>\n",
       "      <td>581</td>\n",
       "      <td>1.055431e+19</td>\n",
       "      <td>0</td>\n",
       "      <td>0.000000</td>\n",
       "      <td>9374</td>\n",
       "      <td>57749</td>\n",
       "      <td>438</td>\n",
       "    </tr>\n",
       "    <tr>\n",
       "      <th>99996</th>\n",
       "      <td>99996</td>\n",
       "      <td>1.237679e+18</td>\n",
       "      <td>29.493819</td>\n",
       "      <td>19.798874</td>\n",
       "      <td>22.69118</td>\n",
       "      <td>22.38628</td>\n",
       "      <td>20.45003</td>\n",
       "      <td>19.75759</td>\n",
       "      <td>19.41526</td>\n",
       "      <td>7917</td>\n",
       "      <td>301</td>\n",
       "      <td>1</td>\n",
       "      <td>289</td>\n",
       "      <td>8.586351e+18</td>\n",
       "      <td>0</td>\n",
       "      <td>0.404895</td>\n",
       "      <td>7626</td>\n",
       "      <td>56934</td>\n",
       "      <td>866</td>\n",
       "    </tr>\n",
       "    <tr>\n",
       "      <th>99997</th>\n",
       "      <td>99997</td>\n",
       "      <td>1.237668e+18</td>\n",
       "      <td>224.587407</td>\n",
       "      <td>15.700707</td>\n",
       "      <td>21.16916</td>\n",
       "      <td>19.26997</td>\n",
       "      <td>18.20428</td>\n",
       "      <td>17.69034</td>\n",
       "      <td>17.35221</td>\n",
       "      <td>5314</td>\n",
       "      <td>301</td>\n",
       "      <td>4</td>\n",
       "      <td>308</td>\n",
       "      <td>3.112008e+18</td>\n",
       "      <td>0</td>\n",
       "      <td>0.143366</td>\n",
       "      <td>2764</td>\n",
       "      <td>54535</td>\n",
       "      <td>74</td>\n",
       "    </tr>\n",
       "    <tr>\n",
       "      <th>99998</th>\n",
       "      <td>99998</td>\n",
       "      <td>1.237661e+18</td>\n",
       "      <td>212.268621</td>\n",
       "      <td>46.660365</td>\n",
       "      <td>25.35039</td>\n",
       "      <td>21.63757</td>\n",
       "      <td>19.91386</td>\n",
       "      <td>19.07254</td>\n",
       "      <td>18.62482</td>\n",
       "      <td>3650</td>\n",
       "      <td>301</td>\n",
       "      <td>4</td>\n",
       "      <td>131</td>\n",
       "      <td>7.601080e+18</td>\n",
       "      <td>0</td>\n",
       "      <td>0.455040</td>\n",
       "      <td>6751</td>\n",
       "      <td>56368</td>\n",
       "      <td>470</td>\n",
       "    </tr>\n",
       "    <tr>\n",
       "      <th>99999</th>\n",
       "      <td>99999</td>\n",
       "      <td>1.237661e+18</td>\n",
       "      <td>196.896053</td>\n",
       "      <td>49.464643</td>\n",
       "      <td>22.62171</td>\n",
       "      <td>21.79745</td>\n",
       "      <td>20.60115</td>\n",
       "      <td>20.00959</td>\n",
       "      <td>19.28075</td>\n",
       "      <td>3650</td>\n",
       "      <td>301</td>\n",
       "      <td>4</td>\n",
       "      <td>60</td>\n",
       "      <td>8.343152e+18</td>\n",
       "      <td>0</td>\n",
       "      <td>0.542944</td>\n",
       "      <td>7410</td>\n",
       "      <td>57104</td>\n",
       "      <td>851</td>\n",
       "    </tr>\n",
       "  </tbody>\n",
       "</table>\n",
       "<p>100000 rows × 19 columns</p>\n",
       "</div>"
      ],
      "text/plain": [
       "       Unnamed: 0        obj_ID       alpha      delta         u         g  \\\n",
       "0               0  1.237661e+18  135.689107  32.494632  23.87882  22.27530   \n",
       "1               1  1.237665e+18  144.826101  31.274185  24.77759  22.83188   \n",
       "2               2  1.237661e+18  142.188790  35.582444  25.26307  22.66389   \n",
       "3               3  1.237663e+18  338.741038  -0.402828  22.13682  23.77656   \n",
       "4               4  1.237680e+18  345.282593  21.183866  19.43718  17.58028   \n",
       "...           ...           ...         ...        ...       ...       ...   \n",
       "99995       99995  1.237679e+18   39.620709  -2.594074  22.16759  22.97586   \n",
       "99996       99996  1.237679e+18   29.493819  19.798874  22.69118  22.38628   \n",
       "99997       99997  1.237668e+18  224.587407  15.700707  21.16916  19.26997   \n",
       "99998       99998  1.237661e+18  212.268621  46.660365  25.35039  21.63757   \n",
       "99999       99999  1.237661e+18  196.896053  49.464643  22.62171  21.79745   \n",
       "\n",
       "              r         i         z  run_ID  rerun_ID  cam_col  field_ID  \\\n",
       "0      20.39501  19.16573  18.79371    3606       301        2        79   \n",
       "1      22.58444  21.16812  21.61427    4518       301        5       119   \n",
       "2      20.60976  19.34857  18.94827    3606       301        2       120   \n",
       "3      21.61162  20.50454  19.25010    4192       301        3       214   \n",
       "4      16.49747  15.97711  15.54461    8102       301        3       137   \n",
       "...         ...       ...       ...     ...       ...      ...       ...   \n",
       "99995  21.90404  21.30548  20.73569    7778       301        2       581   \n",
       "99996  20.45003  19.75759  19.41526    7917       301        1       289   \n",
       "99997  18.20428  17.69034  17.35221    5314       301        4       308   \n",
       "99998  19.91386  19.07254  18.62482    3650       301        4       131   \n",
       "99999  20.60115  20.00959  19.28075    3650       301        4        60   \n",
       "\n",
       "        spec_obj_ID  class  redshift  plate    MJD  fiber_ID  \n",
       "0      6.543777e+18      0  0.634794   5812  56354       171  \n",
       "1      1.176014e+19      0  0.779136  10445  58158       427  \n",
       "2      5.152200e+18      0  0.644195   4576  55592       299  \n",
       "3      1.030107e+19      0  0.932346   9149  58039       775  \n",
       "4      6.891865e+18      0  0.116123   6121  56187       842  \n",
       "...             ...    ...       ...    ...    ...       ...  \n",
       "99995  1.055431e+19      0  0.000000   9374  57749       438  \n",
       "99996  8.586351e+18      0  0.404895   7626  56934       866  \n",
       "99997  3.112008e+18      0  0.143366   2764  54535        74  \n",
       "99998  7.601080e+18      0  0.455040   6751  56368       470  \n",
       "99999  8.343152e+18      0  0.542944   7410  57104       851  \n",
       "\n",
       "[100000 rows x 19 columns]"
      ]
     },
     "execution_count": 6,
     "metadata": {},
     "output_type": "execute_result"
    }
   ],
   "source": [
    "df"
   ]
  },
  {
   "cell_type": "code",
   "execution_count": 7,
   "id": "73e5c06f",
   "metadata": {},
   "outputs": [
    {
     "data": {
      "text/plain": [
       "array([0, 1, 2], dtype=int64)"
      ]
     },
     "execution_count": 7,
     "metadata": {},
     "output_type": "execute_result"
    }
   ],
   "source": [
    "df['class'].unique()"
   ]
  },
  {
   "cell_type": "code",
   "execution_count": 8,
   "id": "dd53d315",
   "metadata": {},
   "outputs": [],
   "source": [
    "df.to_csv(r'C:\\Users\\Creed\\Documents\\GitHub\\Mathematical-statistics\\수리통계\\code\\data\\star_classification.csv')"
   ]
  },
  {
   "cell_type": "code",
   "execution_count": 9,
   "id": "f2d015c2",
   "metadata": {},
   "outputs": [],
   "source": [
    "sub_df = df[['u','g','r','i','z']]"
   ]
  },
  {
   "cell_type": "code",
   "execution_count": 10,
   "id": "1ded1e17",
   "metadata": {},
   "outputs": [
    {
     "data": {
      "text/html": [
       "<div>\n",
       "<style scoped>\n",
       "    .dataframe tbody tr th:only-of-type {\n",
       "        vertical-align: middle;\n",
       "    }\n",
       "\n",
       "    .dataframe tbody tr th {\n",
       "        vertical-align: top;\n",
       "    }\n",
       "\n",
       "    .dataframe thead th {\n",
       "        text-align: right;\n",
       "    }\n",
       "</style>\n",
       "<table border=\"1\" class=\"dataframe\">\n",
       "  <thead>\n",
       "    <tr style=\"text-align: right;\">\n",
       "      <th></th>\n",
       "      <th>u</th>\n",
       "      <th>g</th>\n",
       "      <th>r</th>\n",
       "      <th>i</th>\n",
       "      <th>z</th>\n",
       "    </tr>\n",
       "  </thead>\n",
       "  <tbody>\n",
       "    <tr>\n",
       "      <th>0</th>\n",
       "      <td>23.87882</td>\n",
       "      <td>22.27530</td>\n",
       "      <td>20.39501</td>\n",
       "      <td>19.16573</td>\n",
       "      <td>18.79371</td>\n",
       "    </tr>\n",
       "    <tr>\n",
       "      <th>1</th>\n",
       "      <td>24.77759</td>\n",
       "      <td>22.83188</td>\n",
       "      <td>22.58444</td>\n",
       "      <td>21.16812</td>\n",
       "      <td>21.61427</td>\n",
       "    </tr>\n",
       "    <tr>\n",
       "      <th>2</th>\n",
       "      <td>25.26307</td>\n",
       "      <td>22.66389</td>\n",
       "      <td>20.60976</td>\n",
       "      <td>19.34857</td>\n",
       "      <td>18.94827</td>\n",
       "    </tr>\n",
       "    <tr>\n",
       "      <th>3</th>\n",
       "      <td>22.13682</td>\n",
       "      <td>23.77656</td>\n",
       "      <td>21.61162</td>\n",
       "      <td>20.50454</td>\n",
       "      <td>19.25010</td>\n",
       "    </tr>\n",
       "    <tr>\n",
       "      <th>4</th>\n",
       "      <td>19.43718</td>\n",
       "      <td>17.58028</td>\n",
       "      <td>16.49747</td>\n",
       "      <td>15.97711</td>\n",
       "      <td>15.54461</td>\n",
       "    </tr>\n",
       "    <tr>\n",
       "      <th>...</th>\n",
       "      <td>...</td>\n",
       "      <td>...</td>\n",
       "      <td>...</td>\n",
       "      <td>...</td>\n",
       "      <td>...</td>\n",
       "    </tr>\n",
       "    <tr>\n",
       "      <th>99995</th>\n",
       "      <td>22.16759</td>\n",
       "      <td>22.97586</td>\n",
       "      <td>21.90404</td>\n",
       "      <td>21.30548</td>\n",
       "      <td>20.73569</td>\n",
       "    </tr>\n",
       "    <tr>\n",
       "      <th>99996</th>\n",
       "      <td>22.69118</td>\n",
       "      <td>22.38628</td>\n",
       "      <td>20.45003</td>\n",
       "      <td>19.75759</td>\n",
       "      <td>19.41526</td>\n",
       "    </tr>\n",
       "    <tr>\n",
       "      <th>99997</th>\n",
       "      <td>21.16916</td>\n",
       "      <td>19.26997</td>\n",
       "      <td>18.20428</td>\n",
       "      <td>17.69034</td>\n",
       "      <td>17.35221</td>\n",
       "    </tr>\n",
       "    <tr>\n",
       "      <th>99998</th>\n",
       "      <td>25.35039</td>\n",
       "      <td>21.63757</td>\n",
       "      <td>19.91386</td>\n",
       "      <td>19.07254</td>\n",
       "      <td>18.62482</td>\n",
       "    </tr>\n",
       "    <tr>\n",
       "      <th>99999</th>\n",
       "      <td>22.62171</td>\n",
       "      <td>21.79745</td>\n",
       "      <td>20.60115</td>\n",
       "      <td>20.00959</td>\n",
       "      <td>19.28075</td>\n",
       "    </tr>\n",
       "  </tbody>\n",
       "</table>\n",
       "<p>100000 rows × 5 columns</p>\n",
       "</div>"
      ],
      "text/plain": [
       "              u         g         r         i         z\n",
       "0      23.87882  22.27530  20.39501  19.16573  18.79371\n",
       "1      24.77759  22.83188  22.58444  21.16812  21.61427\n",
       "2      25.26307  22.66389  20.60976  19.34857  18.94827\n",
       "3      22.13682  23.77656  21.61162  20.50454  19.25010\n",
       "4      19.43718  17.58028  16.49747  15.97711  15.54461\n",
       "...         ...       ...       ...       ...       ...\n",
       "99995  22.16759  22.97586  21.90404  21.30548  20.73569\n",
       "99996  22.69118  22.38628  20.45003  19.75759  19.41526\n",
       "99997  21.16916  19.26997  18.20428  17.69034  17.35221\n",
       "99998  25.35039  21.63757  19.91386  19.07254  18.62482\n",
       "99999  22.62171  21.79745  20.60115  20.00959  19.28075\n",
       "\n",
       "[100000 rows x 5 columns]"
      ]
     },
     "execution_count": 10,
     "metadata": {},
     "output_type": "execute_result"
    }
   ],
   "source": [
    "sub_df"
   ]
  },
  {
   "cell_type": "code",
   "execution_count": 11,
   "id": "b4536e0f",
   "metadata": {},
   "outputs": [],
   "source": [
    "sub_df_t = np.transpose(sub_df)"
   ]
  },
  {
   "cell_type": "code",
   "execution_count": 12,
   "id": "c13874fd",
   "metadata": {},
   "outputs": [
    {
     "data": {
      "text/html": [
       "<div>\n",
       "<style scoped>\n",
       "    .dataframe tbody tr th:only-of-type {\n",
       "        vertical-align: middle;\n",
       "    }\n",
       "\n",
       "    .dataframe tbody tr th {\n",
       "        vertical-align: top;\n",
       "    }\n",
       "\n",
       "    .dataframe thead th {\n",
       "        text-align: right;\n",
       "    }\n",
       "</style>\n",
       "<table border=\"1\" class=\"dataframe\">\n",
       "  <thead>\n",
       "    <tr style=\"text-align: right;\">\n",
       "      <th></th>\n",
       "      <th>0</th>\n",
       "      <th>1</th>\n",
       "      <th>2</th>\n",
       "      <th>3</th>\n",
       "      <th>4</th>\n",
       "      <th>5</th>\n",
       "      <th>6</th>\n",
       "      <th>7</th>\n",
       "      <th>8</th>\n",
       "      <th>9</th>\n",
       "      <th>...</th>\n",
       "      <th>99990</th>\n",
       "      <th>99991</th>\n",
       "      <th>99992</th>\n",
       "      <th>99993</th>\n",
       "      <th>99994</th>\n",
       "      <th>99995</th>\n",
       "      <th>99996</th>\n",
       "      <th>99997</th>\n",
       "      <th>99998</th>\n",
       "      <th>99999</th>\n",
       "    </tr>\n",
       "  </thead>\n",
       "  <tbody>\n",
       "    <tr>\n",
       "      <th>u</th>\n",
       "      <td>23.87882</td>\n",
       "      <td>24.77759</td>\n",
       "      <td>25.26307</td>\n",
       "      <td>22.13682</td>\n",
       "      <td>19.43718</td>\n",
       "      <td>23.48827</td>\n",
       "      <td>21.46973</td>\n",
       "      <td>22.24979</td>\n",
       "      <td>24.40286</td>\n",
       "      <td>21.74669</td>\n",
       "      <td>...</td>\n",
       "      <td>23.79655</td>\n",
       "      <td>26.22899</td>\n",
       "      <td>25.82234</td>\n",
       "      <td>23.13172</td>\n",
       "      <td>20.96526</td>\n",
       "      <td>22.16759</td>\n",
       "      <td>22.69118</td>\n",
       "      <td>21.16916</td>\n",
       "      <td>25.35039</td>\n",
       "      <td>22.62171</td>\n",
       "    </tr>\n",
       "    <tr>\n",
       "      <th>g</th>\n",
       "      <td>22.27530</td>\n",
       "      <td>22.83188</td>\n",
       "      <td>22.66389</td>\n",
       "      <td>23.77656</td>\n",
       "      <td>17.58028</td>\n",
       "      <td>23.33776</td>\n",
       "      <td>21.17624</td>\n",
       "      <td>22.02172</td>\n",
       "      <td>22.35669</td>\n",
       "      <td>20.03493</td>\n",
       "      <td>...</td>\n",
       "      <td>22.41332</td>\n",
       "      <td>21.84820</td>\n",
       "      <td>24.02722</td>\n",
       "      <td>23.18506</td>\n",
       "      <td>19.81625</td>\n",
       "      <td>22.97586</td>\n",
       "      <td>22.38628</td>\n",
       "      <td>19.26997</td>\n",
       "      <td>21.63757</td>\n",
       "      <td>21.79745</td>\n",
       "    </tr>\n",
       "    <tr>\n",
       "      <th>r</th>\n",
       "      <td>20.39501</td>\n",
       "      <td>22.58444</td>\n",
       "      <td>20.60976</td>\n",
       "      <td>21.61162</td>\n",
       "      <td>16.49747</td>\n",
       "      <td>21.32195</td>\n",
       "      <td>20.92829</td>\n",
       "      <td>20.34126</td>\n",
       "      <td>20.61032</td>\n",
       "      <td>19.17553</td>\n",
       "      <td>...</td>\n",
       "      <td>20.36012</td>\n",
       "      <td>20.47138</td>\n",
       "      <td>21.43137</td>\n",
       "      <td>21.52854</td>\n",
       "      <td>19.34186</td>\n",
       "      <td>21.90404</td>\n",
       "      <td>20.45003</td>\n",
       "      <td>18.20428</td>\n",
       "      <td>19.91386</td>\n",
       "      <td>20.60115</td>\n",
       "    </tr>\n",
       "    <tr>\n",
       "      <th>i</th>\n",
       "      <td>19.16573</td>\n",
       "      <td>21.16812</td>\n",
       "      <td>19.34857</td>\n",
       "      <td>20.50454</td>\n",
       "      <td>15.97711</td>\n",
       "      <td>20.25615</td>\n",
       "      <td>20.60826</td>\n",
       "      <td>19.48794</td>\n",
       "      <td>19.46490</td>\n",
       "      <td>18.81823</td>\n",
       "      <td>...</td>\n",
       "      <td>19.33964</td>\n",
       "      <td>19.60049</td>\n",
       "      <td>20.13085</td>\n",
       "      <td>20.26975</td>\n",
       "      <td>19.14711</td>\n",
       "      <td>21.30548</td>\n",
       "      <td>19.75759</td>\n",
       "      <td>17.69034</td>\n",
       "      <td>19.07254</td>\n",
       "      <td>20.00959</td>\n",
       "    </tr>\n",
       "    <tr>\n",
       "      <th>z</th>\n",
       "      <td>18.79371</td>\n",
       "      <td>21.61427</td>\n",
       "      <td>18.94827</td>\n",
       "      <td>19.25010</td>\n",
       "      <td>15.54461</td>\n",
       "      <td>19.54544</td>\n",
       "      <td>20.42573</td>\n",
       "      <td>18.84999</td>\n",
       "      <td>18.95852</td>\n",
       "      <td>18.65422</td>\n",
       "      <td>...</td>\n",
       "      <td>18.74413</td>\n",
       "      <td>18.94726</td>\n",
       "      <td>19.66464</td>\n",
       "      <td>20.11383</td>\n",
       "      <td>19.05790</td>\n",
       "      <td>20.73569</td>\n",
       "      <td>19.41526</td>\n",
       "      <td>17.35221</td>\n",
       "      <td>18.62482</td>\n",
       "      <td>19.28075</td>\n",
       "    </tr>\n",
       "  </tbody>\n",
       "</table>\n",
       "<p>5 rows × 100000 columns</p>\n",
       "</div>"
      ],
      "text/plain": [
       "      0         1         2         3         4         5         6      \\\n",
       "u  23.87882  24.77759  25.26307  22.13682  19.43718  23.48827  21.46973   \n",
       "g  22.27530  22.83188  22.66389  23.77656  17.58028  23.33776  21.17624   \n",
       "r  20.39501  22.58444  20.60976  21.61162  16.49747  21.32195  20.92829   \n",
       "i  19.16573  21.16812  19.34857  20.50454  15.97711  20.25615  20.60826   \n",
       "z  18.79371  21.61427  18.94827  19.25010  15.54461  19.54544  20.42573   \n",
       "\n",
       "      7         8         9      ...     99990     99991     99992     99993  \\\n",
       "u  22.24979  24.40286  21.74669  ...  23.79655  26.22899  25.82234  23.13172   \n",
       "g  22.02172  22.35669  20.03493  ...  22.41332  21.84820  24.02722  23.18506   \n",
       "r  20.34126  20.61032  19.17553  ...  20.36012  20.47138  21.43137  21.52854   \n",
       "i  19.48794  19.46490  18.81823  ...  19.33964  19.60049  20.13085  20.26975   \n",
       "z  18.84999  18.95852  18.65422  ...  18.74413  18.94726  19.66464  20.11383   \n",
       "\n",
       "      99994     99995     99996     99997     99998     99999  \n",
       "u  20.96526  22.16759  22.69118  21.16916  25.35039  22.62171  \n",
       "g  19.81625  22.97586  22.38628  19.26997  21.63757  21.79745  \n",
       "r  19.34186  21.90404  20.45003  18.20428  19.91386  20.60115  \n",
       "i  19.14711  21.30548  19.75759  17.69034  19.07254  20.00959  \n",
       "z  19.05790  20.73569  19.41526  17.35221  18.62482  19.28075  \n",
       "\n",
       "[5 rows x 100000 columns]"
      ]
     },
     "execution_count": 12,
     "metadata": {},
     "output_type": "execute_result"
    }
   ],
   "source": [
    "sub_df_t"
   ]
  },
  {
   "cell_type": "code",
   "execution_count": 13,
   "id": "9f9638b5",
   "metadata": {},
   "outputs": [],
   "source": [
    "cov_df = sub_df_t.dot(sub_df)"
   ]
  },
  {
   "cell_type": "code",
   "execution_count": 14,
   "id": "58a9ad68",
   "metadata": {},
   "outputs": [
    {
     "data": {
      "text/html": [
       "<div>\n",
       "<style scoped>\n",
       "    .dataframe tbody tr th:only-of-type {\n",
       "        vertical-align: middle;\n",
       "    }\n",
       "\n",
       "    .dataframe tbody tr th {\n",
       "        vertical-align: top;\n",
       "    }\n",
       "\n",
       "    .dataframe thead th {\n",
       "        text-align: right;\n",
       "    }\n",
       "</style>\n",
       "<table border=\"1\" class=\"dataframe\">\n",
       "  <thead>\n",
       "    <tr style=\"text-align: right;\">\n",
       "      <th></th>\n",
       "      <th>u</th>\n",
       "      <th>g</th>\n",
       "      <th>r</th>\n",
       "      <th>i</th>\n",
       "      <th>z</th>\n",
       "    </tr>\n",
       "  </thead>\n",
       "  <tbody>\n",
       "    <tr>\n",
       "      <th>u</th>\n",
       "      <td>1.492419e+08</td>\n",
       "      <td>1.459268e+08</td>\n",
       "      <td>4.350137e+07</td>\n",
       "      <td>4.220479e+07</td>\n",
       "      <td>1.416397e+08</td>\n",
       "    </tr>\n",
       "    <tr>\n",
       "      <th>g</th>\n",
       "      <td>1.459268e+08</td>\n",
       "      <td>1.429609e+08</td>\n",
       "      <td>4.070286e+07</td>\n",
       "      <td>3.949792e+07</td>\n",
       "      <td>1.389820e+08</td>\n",
       "    </tr>\n",
       "    <tr>\n",
       "      <th>r</th>\n",
       "      <td>4.350137e+07</td>\n",
       "      <td>4.070286e+07</td>\n",
       "      <td>3.893961e+07</td>\n",
       "      <td>3.780759e+07</td>\n",
       "      <td>3.699218e+07</td>\n",
       "    </tr>\n",
       "    <tr>\n",
       "      <th>i</th>\n",
       "      <td>4.220479e+07</td>\n",
       "      <td>3.949792e+07</td>\n",
       "      <td>3.780759e+07</td>\n",
       "      <td>3.673218e+07</td>\n",
       "      <td>3.594145e+07</td>\n",
       "    </tr>\n",
       "    <tr>\n",
       "      <th>z</th>\n",
       "      <td>1.416397e+08</td>\n",
       "      <td>1.389820e+08</td>\n",
       "      <td>3.699218e+07</td>\n",
       "      <td>3.594145e+07</td>\n",
       "      <td>1.355190e+08</td>\n",
       "    </tr>\n",
       "  </tbody>\n",
       "</table>\n",
       "</div>"
      ],
      "text/plain": [
       "              u             g             r             i             z\n",
       "u  1.492419e+08  1.459268e+08  4.350137e+07  4.220479e+07  1.416397e+08\n",
       "g  1.459268e+08  1.429609e+08  4.070286e+07  3.949792e+07  1.389820e+08\n",
       "r  4.350137e+07  4.070286e+07  3.893961e+07  3.780759e+07  3.699218e+07\n",
       "i  4.220479e+07  3.949792e+07  3.780759e+07  3.673218e+07  3.594145e+07\n",
       "z  1.416397e+08  1.389820e+08  3.699218e+07  3.594145e+07  1.355190e+08"
      ]
     },
     "execution_count": 14,
     "metadata": {},
     "output_type": "execute_result"
    }
   ],
   "source": [
    "cov_df"
   ]
  },
  {
   "cell_type": "code",
   "execution_count": 15,
   "id": "76a3570c",
   "metadata": {},
   "outputs": [],
   "source": [
    "e, v = np.linalg.eig(cov_df)"
   ]
  },
  {
   "cell_type": "code",
   "execution_count": 16,
   "id": "cd2d4904",
   "metadata": {},
   "outputs": [
    {
     "data": {
      "text/plain": [
       "array([4.52407691e+08, 5.07357218e+07, 2.04743727e+05, 4.06186418e+04,\n",
       "       4.77288840e+03])"
      ]
     },
     "execution_count": 16,
     "metadata": {},
     "output_type": "execute_result"
    }
   ],
   "source": [
    "e"
   ]
  },
  {
   "cell_type": "code",
   "execution_count": 17,
   "id": "5bdae3c9",
   "metadata": {},
   "outputs": [
    {
     "data": {
      "text/plain": [
       "array([[-0.5733491 ,  0.0909501 , -0.67895384, -0.44905829,  0.01916291],\n",
       "       [-0.56012813,  0.14008024, -0.03231131,  0.78254068, -0.23069477],\n",
       "       [-0.18000134, -0.69174032, -0.04794331,  0.19084663,  0.67109898],\n",
       "       [-0.17473995, -0.67196189,  0.16814737, -0.19588892, -0.67177911],\n",
       "       [-0.54276399,  0.20510523,  0.71232406, -0.33343941,  0.21154596]])"
      ]
     },
     "execution_count": 17,
     "metadata": {},
     "output_type": "execute_result"
    }
   ],
   "source": [
    "v"
   ]
  },
  {
   "cell_type": "code",
   "execution_count": 23,
   "id": "aee2da32",
   "metadata": {},
   "outputs": [],
   "source": [
    "U, S, Vt = np.linalg.svd(cov_df)"
   ]
  },
  {
   "cell_type": "code",
   "execution_count": 24,
   "id": "d882e22a",
   "metadata": {},
   "outputs": [
    {
     "data": {
      "text/plain": [
       "array([[-0.5733491 , -0.0909501 ,  0.67895384,  0.44905829, -0.01916291],\n",
       "       [-0.56012813, -0.14008024,  0.03231131, -0.78254068,  0.23069477],\n",
       "       [-0.18000134,  0.69174032,  0.04794331, -0.19084663, -0.67109898],\n",
       "       [-0.17473995,  0.67196189, -0.16814737,  0.19588892,  0.67177911],\n",
       "       [-0.54276399, -0.20510523, -0.71232406,  0.33343941, -0.21154596]])"
      ]
     },
     "execution_count": 24,
     "metadata": {},
     "output_type": "execute_result"
    }
   ],
   "source": [
    "U"
   ]
  },
  {
   "cell_type": "code",
   "execution_count": 25,
   "id": "3712704d",
   "metadata": {},
   "outputs": [
    {
     "data": {
      "text/plain": [
       "array([4.52407691e+08, 5.07357218e+07, 2.04743727e+05, 4.06186418e+04,\n",
       "       4.77288840e+03])"
      ]
     },
     "execution_count": 25,
     "metadata": {},
     "output_type": "execute_result"
    }
   ],
   "source": [
    "S"
   ]
  },
  {
   "cell_type": "code",
   "execution_count": 26,
   "id": "d24ff57f",
   "metadata": {},
   "outputs": [
    {
     "data": {
      "text/plain": [
       "array([[-0.5733491 , -0.56012813, -0.18000134, -0.17473995, -0.54276399],\n",
       "       [-0.0909501 , -0.14008024,  0.69174032,  0.67196189, -0.20510523],\n",
       "       [ 0.67895384,  0.03231131,  0.04794331, -0.16814737, -0.71232406],\n",
       "       [ 0.44905829, -0.78254068, -0.19084663,  0.19588892,  0.33343941],\n",
       "       [-0.01916291,  0.23069477, -0.67109898,  0.67177911, -0.21154596]])"
      ]
     },
     "execution_count": 26,
     "metadata": {},
     "output_type": "execute_result"
    }
   ],
   "source": [
    "Vt"
   ]
  },
  {
   "cell_type": "code",
   "execution_count": 27,
   "id": "772c6ad2",
   "metadata": {},
   "outputs": [],
   "source": [
    "# 정리 실습"
   ]
  },
  {
   "cell_type": "code",
   "execution_count": 29,
   "id": "5d0fb34f",
   "metadata": {},
   "outputs": [],
   "source": [
    "import matplotlib.pyplot as plt\n",
    "from scipy import stats"
   ]
  },
  {
   "cell_type": "code",
   "execution_count": 30,
   "id": "00e8b9c7",
   "metadata": {},
   "outputs": [],
   "source": [
    "df = pd.read_csv(r'C:\\Users\\Creed\\Documents\\GitHub\\Mathematical-statistics\\수리통계\\code\\data\\Wine.csv')"
   ]
  },
  {
   "cell_type": "code",
   "execution_count": 31,
   "id": "cf4ca953",
   "metadata": {},
   "outputs": [
    {
     "data": {
      "text/html": [
       "<div>\n",
       "<style scoped>\n",
       "    .dataframe tbody tr th:only-of-type {\n",
       "        vertical-align: middle;\n",
       "    }\n",
       "\n",
       "    .dataframe tbody tr th {\n",
       "        vertical-align: top;\n",
       "    }\n",
       "\n",
       "    .dataframe thead th {\n",
       "        text-align: right;\n",
       "    }\n",
       "</style>\n",
       "<table border=\"1\" class=\"dataframe\">\n",
       "  <thead>\n",
       "    <tr style=\"text-align: right;\">\n",
       "      <th></th>\n",
       "      <th>Unnamed: 0</th>\n",
       "      <th>alcohol</th>\n",
       "      <th>malic_acid</th>\n",
       "      <th>ash</th>\n",
       "      <th>alcalinity_of_ash</th>\n",
       "      <th>magnesium</th>\n",
       "      <th>total_phenols</th>\n",
       "      <th>flavanoids</th>\n",
       "      <th>nonflavanoid_phenols</th>\n",
       "      <th>proanthocyanins</th>\n",
       "      <th>color_intensity</th>\n",
       "      <th>hue</th>\n",
       "      <th>od280/od315_of_diluted_wines</th>\n",
       "      <th>proline</th>\n",
       "      <th>target</th>\n",
       "    </tr>\n",
       "  </thead>\n",
       "  <tbody>\n",
       "    <tr>\n",
       "      <th>0</th>\n",
       "      <td>0</td>\n",
       "      <td>14.23</td>\n",
       "      <td>1.71</td>\n",
       "      <td>2.43</td>\n",
       "      <td>15.6</td>\n",
       "      <td>127.0</td>\n",
       "      <td>2.80</td>\n",
       "      <td>3.06</td>\n",
       "      <td>0.28</td>\n",
       "      <td>2.29</td>\n",
       "      <td>5.64</td>\n",
       "      <td>1.04</td>\n",
       "      <td>3.92</td>\n",
       "      <td>1065.0</td>\n",
       "      <td>0.0</td>\n",
       "    </tr>\n",
       "    <tr>\n",
       "      <th>1</th>\n",
       "      <td>1</td>\n",
       "      <td>13.20</td>\n",
       "      <td>1.78</td>\n",
       "      <td>2.14</td>\n",
       "      <td>11.2</td>\n",
       "      <td>100.0</td>\n",
       "      <td>2.65</td>\n",
       "      <td>2.76</td>\n",
       "      <td>0.26</td>\n",
       "      <td>1.28</td>\n",
       "      <td>4.38</td>\n",
       "      <td>1.05</td>\n",
       "      <td>3.40</td>\n",
       "      <td>1050.0</td>\n",
       "      <td>0.0</td>\n",
       "    </tr>\n",
       "    <tr>\n",
       "      <th>2</th>\n",
       "      <td>2</td>\n",
       "      <td>13.16</td>\n",
       "      <td>2.36</td>\n",
       "      <td>2.67</td>\n",
       "      <td>18.6</td>\n",
       "      <td>101.0</td>\n",
       "      <td>2.80</td>\n",
       "      <td>3.24</td>\n",
       "      <td>0.30</td>\n",
       "      <td>2.81</td>\n",
       "      <td>5.68</td>\n",
       "      <td>1.03</td>\n",
       "      <td>3.17</td>\n",
       "      <td>1185.0</td>\n",
       "      <td>0.0</td>\n",
       "    </tr>\n",
       "    <tr>\n",
       "      <th>3</th>\n",
       "      <td>3</td>\n",
       "      <td>14.37</td>\n",
       "      <td>1.95</td>\n",
       "      <td>2.50</td>\n",
       "      <td>16.8</td>\n",
       "      <td>113.0</td>\n",
       "      <td>3.85</td>\n",
       "      <td>3.49</td>\n",
       "      <td>0.24</td>\n",
       "      <td>2.18</td>\n",
       "      <td>7.80</td>\n",
       "      <td>0.86</td>\n",
       "      <td>3.45</td>\n",
       "      <td>1480.0</td>\n",
       "      <td>0.0</td>\n",
       "    </tr>\n",
       "    <tr>\n",
       "      <th>4</th>\n",
       "      <td>4</td>\n",
       "      <td>13.24</td>\n",
       "      <td>2.59</td>\n",
       "      <td>2.87</td>\n",
       "      <td>21.0</td>\n",
       "      <td>118.0</td>\n",
       "      <td>2.80</td>\n",
       "      <td>2.69</td>\n",
       "      <td>0.39</td>\n",
       "      <td>1.82</td>\n",
       "      <td>4.32</td>\n",
       "      <td>1.04</td>\n",
       "      <td>2.93</td>\n",
       "      <td>735.0</td>\n",
       "      <td>0.0</td>\n",
       "    </tr>\n",
       "    <tr>\n",
       "      <th>...</th>\n",
       "      <td>...</td>\n",
       "      <td>...</td>\n",
       "      <td>...</td>\n",
       "      <td>...</td>\n",
       "      <td>...</td>\n",
       "      <td>...</td>\n",
       "      <td>...</td>\n",
       "      <td>...</td>\n",
       "      <td>...</td>\n",
       "      <td>...</td>\n",
       "      <td>...</td>\n",
       "      <td>...</td>\n",
       "      <td>...</td>\n",
       "      <td>...</td>\n",
       "      <td>...</td>\n",
       "    </tr>\n",
       "    <tr>\n",
       "      <th>173</th>\n",
       "      <td>173</td>\n",
       "      <td>13.71</td>\n",
       "      <td>5.65</td>\n",
       "      <td>2.45</td>\n",
       "      <td>20.5</td>\n",
       "      <td>95.0</td>\n",
       "      <td>1.68</td>\n",
       "      <td>0.61</td>\n",
       "      <td>0.52</td>\n",
       "      <td>1.06</td>\n",
       "      <td>7.70</td>\n",
       "      <td>0.64</td>\n",
       "      <td>1.74</td>\n",
       "      <td>740.0</td>\n",
       "      <td>2.0</td>\n",
       "    </tr>\n",
       "    <tr>\n",
       "      <th>174</th>\n",
       "      <td>174</td>\n",
       "      <td>13.40</td>\n",
       "      <td>3.91</td>\n",
       "      <td>2.48</td>\n",
       "      <td>23.0</td>\n",
       "      <td>102.0</td>\n",
       "      <td>1.80</td>\n",
       "      <td>0.75</td>\n",
       "      <td>0.43</td>\n",
       "      <td>1.41</td>\n",
       "      <td>7.30</td>\n",
       "      <td>0.70</td>\n",
       "      <td>1.56</td>\n",
       "      <td>750.0</td>\n",
       "      <td>2.0</td>\n",
       "    </tr>\n",
       "    <tr>\n",
       "      <th>175</th>\n",
       "      <td>175</td>\n",
       "      <td>13.27</td>\n",
       "      <td>4.28</td>\n",
       "      <td>2.26</td>\n",
       "      <td>20.0</td>\n",
       "      <td>120.0</td>\n",
       "      <td>1.59</td>\n",
       "      <td>0.69</td>\n",
       "      <td>0.43</td>\n",
       "      <td>1.35</td>\n",
       "      <td>10.20</td>\n",
       "      <td>0.59</td>\n",
       "      <td>1.56</td>\n",
       "      <td>835.0</td>\n",
       "      <td>2.0</td>\n",
       "    </tr>\n",
       "    <tr>\n",
       "      <th>176</th>\n",
       "      <td>176</td>\n",
       "      <td>13.17</td>\n",
       "      <td>2.59</td>\n",
       "      <td>2.37</td>\n",
       "      <td>20.0</td>\n",
       "      <td>120.0</td>\n",
       "      <td>1.65</td>\n",
       "      <td>0.68</td>\n",
       "      <td>0.53</td>\n",
       "      <td>1.46</td>\n",
       "      <td>9.30</td>\n",
       "      <td>0.60</td>\n",
       "      <td>1.62</td>\n",
       "      <td>840.0</td>\n",
       "      <td>2.0</td>\n",
       "    </tr>\n",
       "    <tr>\n",
       "      <th>177</th>\n",
       "      <td>177</td>\n",
       "      <td>14.13</td>\n",
       "      <td>4.10</td>\n",
       "      <td>2.74</td>\n",
       "      <td>24.5</td>\n",
       "      <td>96.0</td>\n",
       "      <td>2.05</td>\n",
       "      <td>0.76</td>\n",
       "      <td>0.56</td>\n",
       "      <td>1.35</td>\n",
       "      <td>9.20</td>\n",
       "      <td>0.61</td>\n",
       "      <td>1.60</td>\n",
       "      <td>560.0</td>\n",
       "      <td>2.0</td>\n",
       "    </tr>\n",
       "  </tbody>\n",
       "</table>\n",
       "<p>178 rows × 15 columns</p>\n",
       "</div>"
      ],
      "text/plain": [
       "     Unnamed: 0  alcohol  malic_acid   ash  alcalinity_of_ash  magnesium  \\\n",
       "0             0    14.23        1.71  2.43               15.6      127.0   \n",
       "1             1    13.20        1.78  2.14               11.2      100.0   \n",
       "2             2    13.16        2.36  2.67               18.6      101.0   \n",
       "3             3    14.37        1.95  2.50               16.8      113.0   \n",
       "4             4    13.24        2.59  2.87               21.0      118.0   \n",
       "..          ...      ...         ...   ...                ...        ...   \n",
       "173         173    13.71        5.65  2.45               20.5       95.0   \n",
       "174         174    13.40        3.91  2.48               23.0      102.0   \n",
       "175         175    13.27        4.28  2.26               20.0      120.0   \n",
       "176         176    13.17        2.59  2.37               20.0      120.0   \n",
       "177         177    14.13        4.10  2.74               24.5       96.0   \n",
       "\n",
       "     total_phenols  flavanoids  nonflavanoid_phenols  proanthocyanins  \\\n",
       "0             2.80        3.06                  0.28             2.29   \n",
       "1             2.65        2.76                  0.26             1.28   \n",
       "2             2.80        3.24                  0.30             2.81   \n",
       "3             3.85        3.49                  0.24             2.18   \n",
       "4             2.80        2.69                  0.39             1.82   \n",
       "..             ...         ...                   ...              ...   \n",
       "173           1.68        0.61                  0.52             1.06   \n",
       "174           1.80        0.75                  0.43             1.41   \n",
       "175           1.59        0.69                  0.43             1.35   \n",
       "176           1.65        0.68                  0.53             1.46   \n",
       "177           2.05        0.76                  0.56             1.35   \n",
       "\n",
       "     color_intensity   hue  od280/od315_of_diluted_wines  proline  target  \n",
       "0               5.64  1.04                          3.92   1065.0     0.0  \n",
       "1               4.38  1.05                          3.40   1050.0     0.0  \n",
       "2               5.68  1.03                          3.17   1185.0     0.0  \n",
       "3               7.80  0.86                          3.45   1480.0     0.0  \n",
       "4               4.32  1.04                          2.93    735.0     0.0  \n",
       "..               ...   ...                           ...      ...     ...  \n",
       "173             7.70  0.64                          1.74    740.0     2.0  \n",
       "174             7.30  0.70                          1.56    750.0     2.0  \n",
       "175            10.20  0.59                          1.56    835.0     2.0  \n",
       "176             9.30  0.60                          1.62    840.0     2.0  \n",
       "177             9.20  0.61                          1.60    560.0     2.0  \n",
       "\n",
       "[178 rows x 15 columns]"
      ]
     },
     "execution_count": 31,
     "metadata": {},
     "output_type": "execute_result"
    }
   ],
   "source": [
    "df"
   ]
  },
  {
   "cell_type": "code",
   "execution_count": 32,
   "id": "29f28a3d",
   "metadata": {},
   "outputs": [
    {
     "data": {
      "text/plain": [
       "421.24"
      ]
     },
     "execution_count": 32,
     "metadata": {},
     "output_type": "execute_result"
    }
   ],
   "source": [
    "# 열의 합\n",
    "df['ash'].sum()"
   ]
  },
  {
   "cell_type": "code",
   "execution_count": 33,
   "id": "b813ffc3",
   "metadata": {},
   "outputs": [
    {
     "name": "stdout",
     "output_type": "stream",
     "text": [
      "421.2400000000002\n"
     ]
    }
   ],
   "source": [
    "sum_ash = 0\n",
    "for val in df['ash']:\n",
    "    sum_ash += val\n",
    "print(sum_ash)"
   ]
  },
  {
   "cell_type": "code",
   "execution_count": 34,
   "id": "3e57cd08",
   "metadata": {},
   "outputs": [
    {
     "data": {
      "text/plain": [
       "2.3665168539325854"
      ]
     },
     "execution_count": 34,
     "metadata": {},
     "output_type": "execute_result"
    }
   ],
   "source": [
    "#열의 평균\n",
    "df['ash'].mean()"
   ]
  },
  {
   "cell_type": "code",
   "execution_count": 35,
   "id": "3c022aaa",
   "metadata": {},
   "outputs": [
    {
     "name": "stdout",
     "output_type": "stream",
     "text": [
      "2.3665168539325854\n"
     ]
    }
   ],
   "source": [
    "sum_ash = 0\n",
    "for val in df['ash']:\n",
    "    sum_ash += val\n",
    "mean_ash = sum_ash/len(df['ash'])\n",
    "print(mean_ash)"
   ]
  },
  {
   "cell_type": "code",
   "execution_count": 36,
   "id": "63c8fb48",
   "metadata": {},
   "outputs": [
    {
     "data": {
      "text/plain": [
       "0.07526463530756043"
      ]
     },
     "execution_count": 36,
     "metadata": {},
     "output_type": "execute_result"
    }
   ],
   "source": [
    "#열의 분산\n",
    "df['ash'].var()"
   ]
  },
  {
   "cell_type": "code",
   "execution_count": 41,
   "id": "38bcb4d4",
   "metadata": {},
   "outputs": [
    {
     "name": "stdout",
     "output_type": "stream",
     "text": [
      "0.07526463530756043\n"
     ]
    }
   ],
   "source": [
    "ss_ash = 0\n",
    "for val in df['ash']:\n",
    "    ss_ash += (val-mean_ash)**2\n",
    "var_ash = ss_ash/(len(df['ash'])-1)\n",
    "print(var_ash)"
   ]
  },
  {
   "cell_type": "code",
   "execution_count": 42,
   "id": "2096fc9c",
   "metadata": {},
   "outputs": [
    {
     "data": {
      "text/plain": [
       "0.2743440090608148"
      ]
     },
     "execution_count": 42,
     "metadata": {},
     "output_type": "execute_result"
    }
   ],
   "source": [
    "#열의 표준편차\n",
    "df['ash'].std()"
   ]
  },
  {
   "cell_type": "code",
   "execution_count": 43,
   "id": "ffbdd428",
   "metadata": {},
   "outputs": [
    {
     "name": "stdout",
     "output_type": "stream",
     "text": [
      "0.2743440090608148\n"
     ]
    }
   ],
   "source": [
    "std_ash = var_ash**0.5\n",
    "print(std_ash)"
   ]
  },
  {
   "cell_type": "code",
   "execution_count": 44,
   "id": "94c37fc5",
   "metadata": {},
   "outputs": [],
   "source": [
    "#공분산 [상관관계 유추위해 사용. 정확히 알려면 상관계수까지 같이 알아야 함]\n",
    "ash = df['ash']\n",
    "ci = df['color_intensity']"
   ]
  },
  {
   "cell_type": "code",
   "execution_count": 45,
   "id": "59f5ef78",
   "metadata": {},
   "outputs": [
    {
     "data": {
      "text/plain": [
       "array([[0.07526464, 0.16465433],\n",
       "       [0.16465433, 5.37444938]])"
      ]
     },
     "execution_count": 45,
     "metadata": {},
     "output_type": "execute_result"
    }
   ],
   "source": [
    "np.cov(ash,ci)"
   ]
  },
  {
   "cell_type": "code",
   "execution_count": 48,
   "id": "927f8e8e",
   "metadata": {},
   "outputs": [
    {
     "name": "stdout",
     "output_type": "stream",
     "text": [
      "0.16465432664889224\n"
     ]
    }
   ],
   "source": [
    "n = len(df['ash'])\n",
    "mean_ash = ash.mean()\n",
    "mean_ci = ci.mean()\n",
    "res = 0\n",
    "for i in range(0, n):\n",
    "    res += (ash[i]-mean_ash)*(ci[i]-mean_ci)\n",
    "covariance = res/(n-1)\n",
    "print(covariance)"
   ]
  },
  {
   "cell_type": "raw",
   "id": "3c6bd385",
   "metadata": {},
   "source": [
    "((ash - mean_ash).T @ (ci = maen_ci))/(n-1)"
   ]
  },
  {
   "cell_type": "code",
   "execution_count": 56,
   "id": "c95bdacd",
   "metadata": {},
   "outputs": [
    {
     "data": {
      "text/plain": [
       "array([[1.        , 0.25888726],\n",
       "       [0.25888726, 1.        ]])"
      ]
     },
     "execution_count": 56,
     "metadata": {},
     "output_type": "execute_result"
    }
   ],
   "source": [
    "np.corrcoef(ash,ci)"
   ]
  },
  {
   "cell_type": "code",
   "execution_count": 57,
   "id": "8209d0a7",
   "metadata": {},
   "outputs": [
    {
     "data": {
      "image/png": "[encoded data removed]",
      "text/plain": [
       "<Figure size 432x288 with 1 Axes>"
      ]
     },
     "metadata": {
      "needs_background": "light"
     },
     "output_type": "display_data"
    }
   ],
   "source": [
    "plt.hist(df['ash'], bins=30)\n",
    "plt.show()"
   ]
  },
  {
   "cell_type": "code",
   "execution_count": 58,
   "id": "1aa7397f",
   "metadata": {},
   "outputs": [
    {
     "data": {
      "image/png": "[encoded data removed]",
      "text/plain": [
       "<Figure size 432x288 with 1 Axes>"
      ]
     },
     "metadata": {
      "needs_background": "light"
     },
     "output_type": "display_data"
    }
   ],
   "source": [
    "plt.hist(df['color_intensity'], bins = 30, color='red')\n",
    "plt.show()"
   ]
  },
  {
   "cell_type": "code",
   "execution_count": 59,
   "id": "eba11db0",
   "metadata": {},
   "outputs": [],
   "source": [
    "# ahs> 2.5일 때 color_intensity > 8 확률\n",
    "ash25 = df[df['ash'] > 2.5]\n",
    "ci = ash25[ash25['color_intensity']>8]"
   ]
  },
  {
   "cell_type": "code",
   "execution_count": 60,
   "id": "e979095d",
   "metadata": {},
   "outputs": [
    {
     "data": {
      "text/plain": [
       "0.1346153846153846"
      ]
     },
     "execution_count": 60,
     "metadata": {},
     "output_type": "execute_result"
    }
   ],
   "source": [
    "len(ci)/len(ash25)"
   ]
  },
  {
   "cell_type": "code",
   "execution_count": 61,
   "id": "711c9ac5",
   "metadata": {},
   "outputs": [],
   "source": [
    "#가설검정\n",
    "df_A = df[df['ash']>2.35]\n",
    "df_B = df[df['ash']<=2.35]"
   ]
  },
  {
   "cell_type": "code",
   "execution_count": 62,
   "id": "0587b051",
   "metadata": {},
   "outputs": [
    {
     "data": {
      "text/plain": [
       "92"
      ]
     },
     "execution_count": 62,
     "metadata": {},
     "output_type": "execute_result"
    }
   ],
   "source": [
    "len(df_A)"
   ]
  },
  {
   "cell_type": "code",
   "execution_count": 63,
   "id": "fd865990",
   "metadata": {},
   "outputs": [
    {
     "data": {
      "text/plain": [
       "86"
      ]
     },
     "execution_count": 63,
     "metadata": {},
     "output_type": "execute_result"
    }
   ],
   "source": [
    "len(df_B)"
   ]
  },
  {
   "cell_type": "code",
   "execution_count": 64,
   "id": "6ecb98ba",
   "metadata": {},
   "outputs": [
    {
     "data": {
      "text/plain": [
       "0      14.23\n",
       "2      13.16\n",
       "3      14.37\n",
       "4      13.24\n",
       "5      14.20\n",
       "       ...  \n",
       "172    14.16\n",
       "173    13.71\n",
       "174    13.40\n",
       "176    13.17\n",
       "177    14.13\n",
       "Name: alcohol, Length: 92, dtype: float64"
      ]
     },
     "execution_count": 64,
     "metadata": {},
     "output_type": "execute_result"
    }
   ],
   "source": [
    "df_A['alcohol']"
   ]
  },
  {
   "cell_type": "code",
   "execution_count": 65,
   "id": "8ba54e78",
   "metadata": {},
   "outputs": [
    {
     "data": {
      "text/plain": [
       "1      13.20\n",
       "8      14.83\n",
       "9      13.86\n",
       "10     14.10\n",
       "11     14.12\n",
       "       ...  \n",
       "165    13.73\n",
       "167    12.82\n",
       "170    12.20\n",
       "171    12.77\n",
       "175    13.27\n",
       "Name: alcohol, Length: 86, dtype: float64"
      ]
     },
     "execution_count": 65,
     "metadata": {},
     "output_type": "execute_result"
    }
   ],
   "source": [
    "df_B['alcohol']"
   ]
  },
  {
   "cell_type": "code",
   "execution_count": 66,
   "id": "7673abbd",
   "metadata": {},
   "outputs": [
    {
     "name": "stdout",
     "output_type": "stream",
     "text": [
      "13.171847826086958\n",
      "12.817441860465118\n",
      "0.11874509484834071\n"
     ]
    }
   ],
   "source": [
    "a = df_A['alcohol']\n",
    "b = df_B['alcohol']\n",
    "\n",
    "n1 = len(a)\n",
    "n2 = len(b)\n",
    "\n",
    "mean_a = a.mean()\n",
    "mean_b = b.mean()\n",
    "print(mean_a)\n",
    "print(mean_b)\n",
    "\n",
    "var_a = a.var()\n",
    "var_b = b.var()\n",
    "\n",
    "s = ((var_a/n1) + (var_b/n2))**0.5\n",
    "print(s)"
   ]
  },
  {
   "cell_type": "code",
   "execution_count": 68,
   "id": "adb9f6e1",
   "metadata": {},
   "outputs": [
    {
     "name": "stdout",
     "output_type": "stream",
     "text": [
      "2.9845945727230383\n"
     ]
    }
   ],
   "source": [
    "z_value = (mean_a - mean_b)/s\n",
    "print(z_value)"
   ]
  },
  {
   "cell_type": "code",
   "execution_count": 69,
   "id": "8ec55c31",
   "metadata": {},
   "outputs": [],
   "source": [
    "z_dist = stats.norm(0,1)\n",
    "p_value = 1-z_dist.cdf(z_value)"
   ]
  },
  {
   "cell_type": "code",
   "execution_count": 70,
   "id": "b7d26e1b",
   "metadata": {},
   "outputs": [
    {
     "data": {
      "text/plain": [
       "0.0014197720399459213"
      ]
     },
     "execution_count": 70,
     "metadata": {},
     "output_type": "execute_result"
    }
   ],
   "source": [
    "p_value"
   ]
  },
  {
   "cell_type": "code",
   "execution_count": 73,
   "id": "0b3efdfa",
   "metadata": {},
   "outputs": [],
   "source": [
    "df_A = df[df['ash']<2.28]\n",
    "df_B = df[(df['ash']>=2.28) & (df['ash']<=2.47)]\n",
    "df_C = df[df['ash']>2.47]"
   ]
  },
  {
   "cell_type": "code",
   "execution_count": 74,
   "id": "1ce9fdbd",
   "metadata": {},
   "outputs": [],
   "source": [
    "a = df_A['alcohol']\n",
    "b = df_B['alcohol']\n",
    "c = df_C['alcohol']"
   ]
  },
  {
   "cell_type": "code",
   "execution_count": 75,
   "id": "ff5cd3f9",
   "metadata": {},
   "outputs": [
    {
     "name": "stdout",
     "output_type": "stream",
     "text": [
      "59\n",
      "58\n",
      "61\n"
     ]
    }
   ],
   "source": [
    "n1 = len(a)\n",
    "n2 = len(b)\n",
    "n3 = len(c)\n",
    "print(n1)\n",
    "print(n2)\n",
    "print(n3)"
   ]
  },
  {
   "cell_type": "code",
   "execution_count": 76,
   "id": "0bd238cc",
   "metadata": {},
   "outputs": [
    {
     "name": "stdout",
     "output_type": "stream",
     "text": [
      "검정통계량: 0.9709163308143616, p-value: 0.16921241581439972\n",
      "검정통계량: 0.9692205190658569, p-value: 0.14712165296077728\n",
      "검정통계량: 0.9448610544204712, p-value: 0.008268149569630623\n"
     ]
    }
   ],
   "source": [
    "#정규성 검정\n",
    "test_stat, p = stats.shapiro(a)\n",
    "print('검정통계량: {}, p-value: {}'.format(test_stat,p))\n",
    "\n",
    "test_stat, p = stats.shapiro(b)\n",
    "print('검정통계량: {}, p-value: {}'.format(test_stat,p))\n",
    "\n",
    "test_stat, p = stats.shapiro(c)\n",
    "print('검정통계량: {}, p-value: {}'.format(test_stat,p))"
   ]
  },
  {
   "cell_type": "code",
   "execution_count": 77,
   "id": "967ffb8b",
   "metadata": {},
   "outputs": [
    {
     "data": {
      "text/plain": [
       "BartlettResult(statistic=1.2778020504975895, pvalue=0.5278722236377771)"
      ]
     },
     "execution_count": 77,
     "metadata": {},
     "output_type": "execute_result"
    }
   ],
   "source": [
    "# 분산 동질성 검정\n",
    "stats.bartlett(a, b, c)"
   ]
  },
  {
   "cell_type": "code",
   "execution_count": 78,
   "id": "cf6dd8e0",
   "metadata": {},
   "outputs": [
    {
     "name": "stdout",
     "output_type": "stream",
     "text": [
      "F-통계량:  5.153211984906106\n",
      "p-value:  0.006689793066378117\n"
     ]
    }
   ],
   "source": [
    "f_val, p_val = stats.f_oneway(a, b, c)\n",
    "print('F-통계량: ', f_val)\n",
    "print('p-value: ', p_val)"
   ]
  },
  {
   "cell_type": "code",
   "execution_count": 79,
   "id": "4590a0d9",
   "metadata": {},
   "outputs": [
    {
     "name": "stdout",
     "output_type": "stream",
     "text": [
      "F-통계량:  10.300136172298497\n",
      "p-value:  0.0057990098811482715\n"
     ]
    }
   ],
   "source": [
    "f_val, p_val = stats.kruskal(a, b, c)\n",
    "print('F-통계량: ', f_val)\n",
    "print('p-value: ', p_val)"
   ]
  },
  {
   "cell_type": "code",
   "execution_count": null,
   "id": "46f6f5b3",
   "metadata": {},
   "outputs": [],
   "source": []
  }
 ],
 "metadata": {
  "kernelspec": {
   "display_name": "Python 3 (ipykernel)",
   "language": "python",
   "name": "python3"
  },
  "language_info": {
   "codemirror_mode": {
    "name": "ipython",
    "version": 3
   },
   "file_extension": ".py",
   "mimetype": "text/x-python",
   "name": "python",
   "nbconvert_exporter": "python",
   "pygments_lexer": "ipython3",
   "version": "3.9.12"
  }
 },
 "nbformat": 4,
 "nbformat_minor": 5
}
