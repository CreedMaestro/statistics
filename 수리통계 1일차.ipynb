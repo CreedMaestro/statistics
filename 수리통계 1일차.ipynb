{
 "cells": [
  {
   "cell_type": "code",
   "execution_count": 1,
   "id": "31749d29",
   "metadata": {},
   "outputs": [
    {
     "data": {
      "text/plain": [
       "2"
      ]
     },
     "execution_count": 1,
     "metadata": {},
     "output_type": "execute_result"
    }
   ],
   "source": [
    "1+1"
   ]
  },
  {
   "cell_type": "code",
   "execution_count": 2,
   "id": "24fdbad3",
   "metadata": {},
   "outputs": [],
   "source": [
    "import tensorflow"
   ]
  },
  {
   "cell_type": "code",
   "execution_count": 4,
   "id": "332975f6",
   "metadata": {},
   "outputs": [
    {
     "name": "stdout",
     "output_type": "stream",
     "text": [
      "1 = 1\n",
      "2 = 3\n",
      "3 = 6\n",
      "4 = 10\n",
      "5 = 15\n",
      "6 = 21\n",
      "7 = 28\n",
      "8 = 36\n",
      "9 = 45\n",
      "10 = 55\n"
     ]
    }
   ],
   "source": [
    "res = 0\n",
    "for i in range(1,11):\n",
    "    res = res + i\n",
    "    print(i, '=', res)"
   ]
  },
  {
   "cell_type": "code",
   "execution_count": 5,
   "id": "af0b3e54",
   "metadata": {},
   "outputs": [
    {
     "name": "stdout",
     "output_type": "stream",
     "text": [
      "7 = 7\n",
      "8 = 15\n",
      "9 = 24\n"
     ]
    }
   ],
   "source": [
    "res = 0\n",
    "for i in range(7,10):\n",
    "    res = res + i\n",
    "    print(i, '=', res)"
   ]
  },
  {
   "cell_type": "code",
   "execution_count": 6,
   "id": "a0e7ce3e",
   "metadata": {},
   "outputs": [
    {
     "data": {
      "text/plain": [
       "24"
      ]
     },
     "execution_count": 6,
     "metadata": {},
     "output_type": "execute_result"
    }
   ],
   "source": [
    "res"
   ]
  },
  {
   "cell_type": "code",
   "execution_count": 11,
   "id": "71185f99",
   "metadata": {},
   "outputs": [
    {
     "name": "stdout",
     "output_type": "stream",
     "text": [
      "1 = 3\n",
      "2 = 6\n",
      "3 = 9\n",
      "4 = 12\n",
      "5 = 15\n",
      "6 = 18\n",
      "7 = 21\n",
      "8 = 24\n",
      "9 = 27\n",
      "10 = 30\n"
     ]
    }
   ],
   "source": [
    "res = 0\n",
    "for i in range(1,11):\n",
    "    res = res + 3\n",
    "    print(i, '=', res)"
   ]
  },
  {
   "cell_type": "code",
   "execution_count": 7,
   "id": "66e86bba",
   "metadata": {},
   "outputs": [
    {
     "data": {
      "text/plain": [
       "165"
      ]
     },
     "execution_count": 7,
     "metadata": {},
     "output_type": "execute_result"
    }
   ],
   "source": [
    "res = 0\n",
    "for i in range(1,11):\n",
    "    res += 3 * i\n",
    "    #res = res + 3 * I\n",
    "res"
   ]
  },
  {
   "cell_type": "code",
   "execution_count": 13,
   "id": "63a32a18",
   "metadata": {},
   "outputs": [
    {
     "name": "stdout",
     "output_type": "stream",
     "text": [
      "1 = 0\n",
      "1 = -1\n",
      "1 = -3\n",
      "2 = -2\n",
      "2 = -2\n",
      "2 = -3\n"
     ]
    }
   ],
   "source": [
    "res = 0\n",
    "for i in range(1,3):\n",
    "    for j in range(1,4):\n",
    "        res += i-j\n",
    "        print(i,'=',res)"
   ]
  },
  {
   "cell_type": "code",
   "execution_count": 15,
   "id": "ad6ec21b",
   "metadata": {},
   "outputs": [
    {
     "name": "stdout",
     "output_type": "stream",
     "text": [
      "1 = 1\n",
      "2 = 2\n",
      "3 = 6\n",
      "4 = 24\n",
      "5 = 120\n",
      "6 = 720\n",
      "7 = 5040\n",
      "8 = 40320\n",
      "9 = 362880\n",
      "10 = 3628800\n"
     ]
    },
    {
     "data": {
      "text/plain": [
       "3628800"
      ]
     },
     "execution_count": 15,
     "metadata": {},
     "output_type": "execute_result"
    }
   ],
   "source": [
    "res = 1  #곱셈이기 때문에 초기값은 1로 한다. (0으로 하면 뭘 곱해도 0)\n",
    "for i in range(1,11):\n",
    "    res = res * i\n",
    "    print(i, '=', res)\n",
    "res"
   ]
  },
  {
   "cell_type": "code",
   "execution_count": 24,
   "id": "9c9e5c40",
   "metadata": {},
   "outputs": [
    {
     "name": "stdout",
     "output_type": "stream",
     "text": [
      "i =  1 , j =  1 ,  res =  -3\n",
      "i =  1 , j =  1 ,  res =  12\n",
      "i =  2 , j =  2 ,  res =  -24\n",
      "i =  2 , j =  2 ,  res =  72\n",
      "i =  3 , j =  3 ,  res =  -72\n",
      "i =  3 , j =  3 ,  res =  144\n"
     ]
    }
   ],
   "source": [
    "res = 1\n",
    "for i in range(1,4):\n",
    "    for j in range(4,6):\n",
    "        res *= i -j\n",
    "        print('i = ', i, ',' , 'j = ',i, ', ', 'res = ', res)"
   ]
  },
  {
   "cell_type": "code",
   "execution_count": 18,
   "id": "1a33642c",
   "metadata": {},
   "outputs": [
    {
     "data": {
      "text/plain": [
       "144"
      ]
     },
     "execution_count": 18,
     "metadata": {},
     "output_type": "execute_result"
    }
   ],
   "source": [
    "res"
   ]
  },
  {
   "cell_type": "code",
   "execution_count": 23,
   "id": "3c3e2444",
   "metadata": {},
   "outputs": [
    {
     "data": {
      "text/plain": [
       "144"
      ]
     },
     "execution_count": 23,
     "metadata": {},
     "output_type": "execute_result"
    }
   ],
   "source": [
    "(-3)*(-2)*(-1)*(-4)*(-3)*(-2)"
   ]
  },
  {
   "cell_type": "code",
   "execution_count": 25,
   "id": "0397ddd0",
   "metadata": {},
   "outputs": [],
   "source": [
    "# 팩토리얼 n!(n부터 1까지 곱셈)  5!   5*4*3*2*1\n",
    "res = 1\n",
    "for i in range(1,6):\n",
    "    res *= i"
   ]
  },
  {
   "cell_type": "code",
   "execution_count": 26,
   "id": "319a5d9b",
   "metadata": {},
   "outputs": [
    {
     "data": {
      "text/plain": [
       "120"
      ]
     },
     "execution_count": 26,
     "metadata": {},
     "output_type": "execute_result"
    }
   ],
   "source": [
    "res"
   ]
  },
  {
   "cell_type": "code",
   "execution_count": 29,
   "id": "82b537a0",
   "metadata": {},
   "outputs": [
    {
     "ename": "SyntaxError",
     "evalue": "'return' outside function (2454680598.py, line 4)",
     "output_type": "error",
     "traceback": [
      "\u001b[1;36m  Cell \u001b[1;32mIn [29], line 4\u001b[1;36m\u001b[0m\n\u001b[1;33m    return res\u001b[0m\n\u001b[1;37m    ^\u001b[0m\n\u001b[1;31mSyntaxError\u001b[0m\u001b[1;31m:\u001b[0m 'return' outside function\n"
     ]
    }
   ],
   "source": [
    "res = 1\n",
    "for i in range(5,0,-1):\n",
    "    res *= i"
   ]
  },
  {
   "cell_type": "code",
   "execution_count": 28,
   "id": "a4b5677a",
   "metadata": {},
   "outputs": [
    {
     "data": {
      "text/plain": [
       "120"
      ]
     },
     "execution_count": 28,
     "metadata": {},
     "output_type": "execute_result"
    }
   ],
   "source": [
    "res"
   ]
  },
  {
   "cell_type": "code",
   "execution_count": 32,
   "id": "c874e3dc",
   "metadata": {},
   "outputs": [],
   "source": [
    "# 팩토리얼 함수 만들기\n",
    "def factorial(n):\n",
    "    res = 1\n",
    "    for i in range(1, n+1):    # 곱셈은 1 ~ n까지 곱하거나, n ~ 1까지 역순으로 곱하거나 해가 같기에 n+1로 간략화\n",
    "        res *= i\n",
    "    return res"
   ]
  },
  {
   "cell_type": "code",
   "execution_count": 33,
   "id": "82bdfbe8",
   "metadata": {},
   "outputs": [
    {
     "data": {
      "text/plain": [
       "120"
      ]
     },
     "execution_count": 33,
     "metadata": {},
     "output_type": "execute_result"
    }
   ],
   "source": [
    "factorial(5)"
   ]
  },
  {
   "cell_type": "code",
   "execution_count": 35,
   "id": "50237ab2",
   "metadata": {},
   "outputs": [
    {
     "data": {
      "text/plain": [
       "6.0"
      ]
     },
     "execution_count": 35,
     "metadata": {},
     "output_type": "execute_result"
    }
   ],
   "source": [
    "# 이항함수   n개중 x개를 순서 상관없이 뽑는 경우의 수\n",
    "factorial(4)/(factorial(2)*factorial(4-2))"
   ]
  },
  {
   "cell_type": "code",
   "execution_count": 37,
   "id": "43bd71d5",
   "metadata": {},
   "outputs": [],
   "source": [
    "def binomial(n,x):\n",
    "    res = factorial(n)/(factorial(x)*factorial(n-x))\n",
    "    return res"
   ]
  },
  {
   "cell_type": "code",
   "execution_count": 38,
   "id": "047642e2",
   "metadata": {},
   "outputs": [
    {
     "data": {
      "text/plain": [
       "6.0"
      ]
     },
     "execution_count": 38,
     "metadata": {},
     "output_type": "execute_result"
    }
   ],
   "source": [
    "binomial(4,2)"
   ]
  },
  {
   "cell_type": "code",
   "execution_count": 39,
   "id": "78038012",
   "metadata": {},
   "outputs": [
    {
     "data": {
      "text/plain": [
       "False"
      ]
     },
     "execution_count": 39,
     "metadata": {},
     "output_type": "execute_result"
    }
   ],
   "source": [
    "#지시함수\n",
    "x = 13\n",
    "x < 10"
   ]
  },
  {
   "cell_type": "code",
   "execution_count": 40,
   "id": "8972a6c8",
   "metadata": {},
   "outputs": [
    {
     "data": {
      "text/plain": [
       "0"
      ]
     },
     "execution_count": 40,
     "metadata": {},
     "output_type": "execute_result"
    }
   ],
   "source": [
    "int(x < 10)"
   ]
  },
  {
   "cell_type": "code",
   "execution_count": 41,
   "id": "4ff8e6eb",
   "metadata": {},
   "outputs": [
    {
     "data": {
      "text/plain": [
       "0.0"
      ]
     },
     "execution_count": 41,
     "metadata": {},
     "output_type": "execute_result"
    }
   ],
   "source": [
    "float(x < 10)"
   ]
  },
  {
   "cell_type": "code",
   "execution_count": 42,
   "id": "258681e9",
   "metadata": {},
   "outputs": [],
   "source": [
    "x = 13\n",
    "if x < 10:\n",
    "    res = 1\n",
    "else:\n",
    "    res = 0"
   ]
  },
  {
   "cell_type": "code",
   "execution_count": 43,
   "id": "446e0f8a",
   "metadata": {},
   "outputs": [
    {
     "data": {
      "text/plain": [
       "0"
      ]
     },
     "execution_count": 43,
     "metadata": {},
     "output_type": "execute_result"
    }
   ],
   "source": [
    "res"
   ]
  },
  {
   "cell_type": "code",
   "execution_count": 44,
   "id": "237674b7",
   "metadata": {},
   "outputs": [],
   "source": [
    "x = 3\n",
    "if x < 10:\n",
    "    res = 1\n",
    "else:\n",
    "    res = 0"
   ]
  },
  {
   "cell_type": "code",
   "execution_count": 45,
   "id": "103aeb97",
   "metadata": {},
   "outputs": [
    {
     "data": {
      "text/plain": [
       "1"
      ]
     },
     "execution_count": 45,
     "metadata": {},
     "output_type": "execute_result"
    }
   ],
   "source": [
    "res"
   ]
  },
  {
   "cell_type": "code",
   "execution_count": null,
   "id": "bedf931d",
   "metadata": {},
   "outputs": [],
   "source": [
    "# 자연상수 e"
   ]
  },
  {
   "cell_type": "code",
   "execution_count": 48,
   "id": "33a1dbfc",
   "metadata": {},
   "outputs": [
    {
     "name": "stdout",
     "output_type": "stream",
     "text": [
      "2.7048138294215285\n"
     ]
    }
   ],
   "source": [
    "n = 100\n",
    "e = (1+(1/n))**n\n",
    "print(e)"
   ]
  },
  {
   "cell_type": "code",
   "execution_count": 49,
   "id": "73ad9009",
   "metadata": {},
   "outputs": [
    {
     "name": "stdout",
     "output_type": "stream",
     "text": [
      "2.7169239322355936\n"
     ]
    }
   ],
   "source": [
    "n = 1000\n",
    "e = (1+(1/n))**n\n",
    "print(e)"
   ]
  },
  {
   "cell_type": "code",
   "execution_count": 50,
   "id": "8e089ec0",
   "metadata": {},
   "outputs": [
    {
     "name": "stdout",
     "output_type": "stream",
     "text": [
      "2.7181459268249255\n"
     ]
    }
   ],
   "source": [
    "n = 10000\n",
    "e = (1+(1/n))**n\n",
    "print(e)"
   ]
  },
  {
   "cell_type": "code",
   "execution_count": 51,
   "id": "d78a9c96",
   "metadata": {},
   "outputs": [
    {
     "name": "stdout",
     "output_type": "stream",
     "text": [
      "2.7182682371922975\n"
     ]
    }
   ],
   "source": [
    "n = 100000\n",
    "e = (1+(1/n))**n\n",
    "print(e)"
   ]
  },
  {
   "cell_type": "code",
   "execution_count": 52,
   "id": "fa958846",
   "metadata": {},
   "outputs": [
    {
     "name": "stdout",
     "output_type": "stream",
     "text": [
      "2.7182820532347876\n"
     ]
    }
   ],
   "source": [
    "n = 10000000000\n",
    "e = (1+(1/n))**n\n",
    "print(e)"
   ]
  },
  {
   "cell_type": "code",
   "execution_count": null,
   "id": "9993291a",
   "metadata": {},
   "outputs": [],
   "source": [
    "# min, argmin"
   ]
  },
  {
   "cell_type": "code",
   "execution_count": 53,
   "id": "93d19f10",
   "metadata": {},
   "outputs": [],
   "source": [
    "x  = [4, 2, 8, 9, 3]"
   ]
  },
  {
   "cell_type": "code",
   "execution_count": 59,
   "id": "2955b924",
   "metadata": {},
   "outputs": [],
   "source": [
    "min_value = min(x)"
   ]
  },
  {
   "cell_type": "code",
   "execution_count": 60,
   "id": "53ab6e18",
   "metadata": {},
   "outputs": [
    {
     "data": {
      "text/plain": [
       "2"
      ]
     },
     "execution_count": 60,
     "metadata": {},
     "output_type": "execute_result"
    }
   ],
   "source": [
    "min_value"
   ]
  },
  {
   "cell_type": "code",
   "execution_count": 56,
   "id": "5cb76878",
   "metadata": {},
   "outputs": [
    {
     "data": {
      "text/plain": [
       "1"
      ]
     },
     "execution_count": 56,
     "metadata": {},
     "output_type": "execute_result"
    }
   ],
   "source": [
    "x.index(min_value)"
   ]
  },
  {
   "cell_type": "code",
   "execution_count": 57,
   "id": "68cb5ff8",
   "metadata": {},
   "outputs": [
    {
     "data": {
      "text/plain": [
       "2"
      ]
     },
     "execution_count": 57,
     "metadata": {},
     "output_type": "execute_result"
    }
   ],
   "source": [
    "import numpy as np\n",
    "np.min(x)"
   ]
  },
  {
   "cell_type": "code",
   "execution_count": 58,
   "id": "2ecaf783",
   "metadata": {},
   "outputs": [
    {
     "data": {
      "text/plain": [
       "1"
      ]
     },
     "execution_count": 58,
     "metadata": {},
     "output_type": "execute_result"
    }
   ],
   "source": [
    "np.argmin(x)   #min의 인덱스넘버 추출"
   ]
  },
  {
   "cell_type": "code",
   "execution_count": null,
   "id": "6db42d6e",
   "metadata": {},
   "outputs": [],
   "source": [
    "# max, argmax"
   ]
  },
  {
   "cell_type": "code",
   "execution_count": 61,
   "id": "561f8103",
   "metadata": {},
   "outputs": [
    {
     "data": {
      "text/plain": [
       "9"
      ]
     },
     "execution_count": 61,
     "metadata": {},
     "output_type": "execute_result"
    }
   ],
   "source": [
    "x = [4, 2, 8, 9, 3]\n",
    "max_value = max(x)\n",
    "max_value"
   ]
  },
  {
   "cell_type": "code",
   "execution_count": 62,
   "id": "c2eec395",
   "metadata": {},
   "outputs": [
    {
     "data": {
      "text/plain": [
       "3"
      ]
     },
     "execution_count": 62,
     "metadata": {},
     "output_type": "execute_result"
    }
   ],
   "source": [
    "x.index(max_value)"
   ]
  },
  {
   "cell_type": "code",
   "execution_count": 63,
   "id": "5893856a",
   "metadata": {},
   "outputs": [
    {
     "data": {
      "text/plain": [
       "9"
      ]
     },
     "execution_count": 63,
     "metadata": {},
     "output_type": "execute_result"
    }
   ],
   "source": [
    "np.max(x)"
   ]
  },
  {
   "cell_type": "code",
   "execution_count": 64,
   "id": "3b53cd45",
   "metadata": {},
   "outputs": [
    {
     "data": {
      "text/plain": [
       "3"
      ]
     },
     "execution_count": 64,
     "metadata": {},
     "output_type": "execute_result"
    }
   ],
   "source": [
    "np.argmax(x)"
   ]
  }
 ],
 "metadata": {
  "kernelspec": {
   "display_name": "Python 3 (ipykernel)",
   "language": "python",
   "name": "python3"
  },
  "language_info": {
   "codemirror_mode": {
    "name": "ipython",
    "version": 3
   },
   "file_extension": ".py",
   "mimetype": "text/x-python",
   "name": "python",
   "nbconvert_exporter": "python",
   "pygments_lexer": "ipython3",
   "version": "3.9.12"
  }
 },
 "nbformat": 4,
 "nbformat_minor": 5
}
